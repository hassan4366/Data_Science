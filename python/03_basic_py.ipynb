{
 "cells": [
  {
   "cell_type": "markdown",
   "id": "d7057e73",
   "metadata": {},
   "source": [
    "## 1️⃣ Lists in Python\n",
    "- A list is an ordered, mutable (changeable) collection that allows duplicate values."
   ]
  },
  {
   "cell_type": "code",
   "execution_count": 1,
   "id": "57150537",
   "metadata": {},
   "outputs": [
    {
     "name": "stdout",
     "output_type": "stream",
     "text": [
      "1\n"
     ]
    }
   ],
   "source": [
    "# Creating a list\n",
    "my_list = [1, 2, 3, 4, 5]\n",
    "\n",
    "# Accessing elements\n",
    "print(my_list[0])  # Output: 1"
   ]
  },
  {
   "cell_type": "code",
   "execution_count": 2,
   "id": "de2c8983",
   "metadata": {},
   "outputs": [
    {
     "name": "stdout",
     "output_type": "stream",
     "text": [
      "[1, 10, 3, 4, 5]\n"
     ]
    }
   ],
   "source": [
    "# Modifying elements\n",
    "my_list[1] = 10  \n",
    "print(my_list)  # Output: [1, 10, 3, 4, 5]"
   ]
  },
  {
   "cell_type": "code",
   "execution_count": 3,
   "id": "1f66870b",
   "metadata": {},
   "outputs": [
    {
     "name": "stdout",
     "output_type": "stream",
     "text": [
      "[1, 10, 3, 4, 5, 6]\n"
     ]
    }
   ],
   "source": [
    "# Adding elements\n",
    "my_list.append(6)  \n",
    "print(my_list)  # Output: [1, 10, 3, 4, 5, 6]"
   ]
  },
  {
   "cell_type": "code",
   "execution_count": 4,
   "id": "0258121e",
   "metadata": {},
   "outputs": [
    {
     "name": "stdout",
     "output_type": "stream",
     "text": [
      "[1, 10, 4, 5, 6]\n"
     ]
    }
   ],
   "source": [
    "# Removing elements\n",
    "my_list.remove(3)  \n",
    "print(my_list)  # Output: [1, 10, 4, 5, 6]"
   ]
  },
  {
   "cell_type": "code",
   "execution_count": 5,
   "id": "cf58e431",
   "metadata": {},
   "outputs": [
    {
     "name": "stdout",
     "output_type": "stream",
     "text": [
      "[1, 10, 4, 5]\n"
     ]
    }
   ],
   "source": [
    "# Removing elements\n",
    "my_list.remove(6)  \n",
    "print(my_list)  # Output: [1, 10, 4, 5]"
   ]
  },
  {
   "cell_type": "markdown",
   "id": "d1d6891b",
   "metadata": {},
   "source": [
    "### List Examples\n"
   ]
  },
  {
   "cell_type": "markdown",
   "id": "581a33cf",
   "metadata": {},
   "source": [
    "- Example 1: Creating and Accessing Elements\n",
    "\n"
   ]
  },
  {
   "cell_type": "code",
   "execution_count": 12,
   "id": "16861343",
   "metadata": {},
   "outputs": [
    {
     "name": "stdout",
     "output_type": "stream",
     "text": [
      "apple\n",
      "cherry\n"
     ]
    }
   ],
   "source": [
    "fruits = [\"apple\", \"banana\", \"cherry\"]\n",
    "print(fruits[0])  # Output: apple\n",
    "print(fruits[-1]) # Output: cherry (last element)\n"
   ]
  },
  {
   "cell_type": "markdown",
   "id": "ad6e4eae",
   "metadata": {},
   "source": [
    "- Example 2: Adding and Removing Elements\n"
   ]
  },
  {
   "cell_type": "code",
   "execution_count": 14,
   "id": "4f7cde51",
   "metadata": {},
   "outputs": [
    {
     "name": "stdout",
     "output_type": "stream",
     "text": [
      "[1, 2, 3, 4]\n",
      "[1, 3, 4]\n"
     ]
    }
   ],
   "source": [
    "numbers = [1, 2, 3]\n",
    "numbers.append(4)  # Add 4 to the list\n",
    "print(numbers)  # Output: [1, 2, 3, 4]\n",
    "\n",
    "numbers.remove(2)  # Remove number 2\n",
    "print(numbers)  # Output: [1, 3, 4]\n"
   ]
  },
  {
   "cell_type": "markdown",
   "id": "a0cb2a6b",
   "metadata": {},
   "source": [
    "- Example 3: Looping Through a List\n",
    "\n"
   ]
  },
  {
   "cell_type": "code",
   "execution_count": 16,
   "id": "0d59297a",
   "metadata": {},
   "outputs": [
    {
     "name": "stdout",
     "output_type": "stream",
     "text": [
      "Alice\n",
      "Bob\n",
      "Charlie\n"
     ]
    }
   ],
   "source": [
    "names = [\"Alice\", \"Bob\", \"Charlie\"]\n",
    "for name in names:\n",
    "    print(name)\n",
    "\n",
    "# Output:\n",
    "# Alice\n",
    "# Bob\n",
    "# Charlie\n"
   ]
  },
  {
   "cell_type": "code",
   "execution_count": 1,
   "id": "1bf2d9a5",
   "metadata": {},
   "outputs": [
    {
     "data": {
      "text/plain": [
       "['youssef', 1, 2, True]"
      ]
     },
     "execution_count": 1,
     "metadata": {},
     "output_type": "execute_result"
    }
   ],
   "source": [
    "my_list=['youssef',1,2,True]\n",
    "my_list"
   ]
  },
  {
   "cell_type": "code",
   "execution_count": 2,
   "id": "1f466dd0",
   "metadata": {},
   "outputs": [
    {
     "name": "stdout",
     "output_type": "stream",
     "text": [
      "['One', 'Two', 'One', 1, 100.5, True]\n",
      "Two\n",
      "True\n",
      "1\n"
     ]
    }
   ],
   "source": [
    "myAwesomeList = [\"One\", \"Two\", \"One\", 1, 100.5, True]\n",
    "\n",
    "print(myAwesomeList)  # Whole List\n",
    "print(myAwesomeList[1])  # \"Two\"\n",
    "print(myAwesomeList[-1])  # True\n",
    "print(myAwesomeList[-3])  # 1\n",
    "\n"
   ]
  },
  {
   "cell_type": "code",
   "execution_count": 3,
   "id": "2ef180e6",
   "metadata": {},
   "outputs": [
    {
     "name": "stdout",
     "output_type": "stream",
     "text": [
      "['Two', 'One', 1]\n",
      "['One', 'Two', 'One', 1]\n",
      "['Two', 'One', 1, 100.5, True]\n"
     ]
    }
   ],
   "source": [
    "print(myAwesomeList[1:4])  # ['Two', 'One', 1]\n",
    "print(myAwesomeList[:4])  # ['One', 'Two', 'One', 1]\n",
    "print(myAwesomeList[1:])  # ['Two', 'One', 1, 100.5, True]"
   ]
  },
  {
   "cell_type": "code",
   "execution_count": 4,
   "id": "18cf9121",
   "metadata": {},
   "outputs": [
    {
     "name": "stdout",
     "output_type": "stream",
     "text": [
      "['One', 'Two', 'One', 1, 100.5, True]\n",
      "['One', 'One', 100.5]\n"
     ]
    }
   ],
   "source": [
    "print(myAwesomeList[::1])  # ['One', 'Two', 'One', 1, 100.5, True]\n",
    "print(myAwesomeList[::2])  # ['One', 'One', 100.5]"
   ]
  },
  {
   "cell_type": "code",
   "execution_count": 5,
   "id": "d2b77143",
   "metadata": {},
   "outputs": [
    {
     "name": "stdout",
     "output_type": "stream",
     "text": [
      "['One', 'Two', 'One', 1, 100.5, True]\n",
      "['A', 1, 100.5, True]\n"
     ]
    }
   ],
   "source": [
    "print(myAwesomeList)\n",
    "# myAwesomeList[1] = 2\n",
    "# myAwesomeList[-1] = False\n",
    "myAwesomeList[0:3] = [\"A\"]  # lists is not unique \n",
    "print(myAwesomeList)"
   ]
  },
  {
   "cell_type": "code",
   "execution_count": null,
   "id": "31de56c3",
   "metadata": {},
   "outputs": [],
   "source": []
  },
  {
   "cell_type": "code",
   "execution_count": 6,
   "id": "99bf1e98",
   "metadata": {},
   "outputs": [
    {
     "name": "stdout",
     "output_type": "stream",
     "text": [
      "['Osama', 'Ahmed', 'Sayed', 'Alaa', 100, 150.2, True, ['Haytham', 'Samah', 'Ali']]\n",
      "Sayed\n",
      "True\n",
      "['Haytham', 'Samah', 'Ali']\n",
      "Ali\n"
     ]
    }
   ],
   "source": [
    "myFriends = [\"Osama\", \"Ahmed\", \"Sayed\"]\n",
    "myOldFriends = [\"Haytham\", \"Samah\", \"Ali\"]\n",
    "\n",
    "myFriends.append(\"Alaa\")\n",
    "myFriends.append(100)\n",
    "myFriends.append(150.200)\n",
    "myFriends.append(True)\n",
    "myFriends.append(myOldFriends)\n",
    "\n",
    "print(myFriends)\n",
    "print(myFriends[2])\n",
    "print(myFriends[6])\n",
    "print(myFriends[7])\n",
    "print(myFriends[7][2])\n",
    "\n"
   ]
  },
  {
   "cell_type": "code",
   "execution_count": 8,
   "id": "a8634419",
   "metadata": {},
   "outputs": [
    {
     "name": "stdout",
     "output_type": "stream",
     "text": [
      "[1, 2, 3, 4, 'A', 'B', 'C', 'One', 'Two', 1, 'one']\n"
     ]
    }
   ],
   "source": [
    "# extend()\n",
    "\n",
    "a = [1, 2, 3, 4]\n",
    "b = [\"A\", \"B\", \"C\"]\n",
    "c = [\"One\", \"Two\",1,\"one\"]\n",
    "\n",
    "a.extend(b)\n",
    "a.extend(c)\n",
    "\n",
    "print(a)"
   ]
  },
  {
   "cell_type": "code",
   "execution_count": 9,
   "id": "a45276c5",
   "metadata": {},
   "outputs": [
    {
     "name": "stdout",
     "output_type": "stream",
     "text": [
      "[1, 2, 3, 4, 5, True, 'Osama', 'Osama']\n"
     ]
    }
   ],
   "source": [
    "# remove()\n",
    "\n",
    "x = [1, 2, 3, 4, 5, \"Osama\", True, \"Osama\", \"Osama\"]\n",
    "x.remove(\"Osama\")\n",
    "print(x)"
   ]
  },
  {
   "cell_type": "code",
   "execution_count": 10,
   "id": "02820333",
   "metadata": {},
   "outputs": [
    {
     "name": "stdout",
     "output_type": "stream",
     "text": [
      "[120, 100, 29, 17, 2, 1, -10]\n"
     ]
    }
   ],
   "source": [
    "# sort()\n",
    "\n",
    "y = [1, 2, 100, 120, -10, 17, 29]\n",
    "# y = [\"A\", \"Z\", \"C\"]\n",
    "y.sort(reverse=True)\n",
    "print(y)"
   ]
  },
  {
   "cell_type": "code",
   "execution_count": 11,
   "id": "376ca576",
   "metadata": {},
   "outputs": [
    {
     "name": "stdout",
     "output_type": "stream",
     "text": [
      "[100, 'Osama', 100, 80, 9, 1, 10]\n"
     ]
    }
   ],
   "source": [
    "# reverse()\n",
    "\n",
    "z = [10, 1, 9, 80, 100, \"Osama\", 100]\n",
    "z.reverse()\n",
    "print(z)"
   ]
  },
  {
   "cell_type": "code",
   "execution_count": null,
   "id": "c7b08225",
   "metadata": {},
   "outputs": [],
   "source": []
  },
  {
   "cell_type": "code",
   "execution_count": 12,
   "id": "3e9c6ceb",
   "metadata": {},
   "outputs": [
    {
     "name": "stdout",
     "output_type": "stream",
     "text": [
      "[]\n"
     ]
    }
   ],
   "source": [
    "# clear()\n",
    "\n",
    "a = [1, 2, 3, 4]\n",
    "a.clear()\n",
    "print(a)\n"
   ]
  },
  {
   "cell_type": "code",
   "execution_count": 13,
   "id": "570c4f7b",
   "metadata": {},
   "outputs": [
    {
     "name": "stdout",
     "output_type": "stream",
     "text": [
      "[1, 2, 3, 4]\n",
      "[1, 2, 3, 4]\n"
     ]
    }
   ],
   "source": [
    "# copy()\n",
    "\n",
    "b = [1, 2, 3, 4]\n",
    "c = b.copy()\n",
    "\n",
    "print(b)  # Main List\n",
    "print(c)  # Copied List"
   ]
  },
  {
   "cell_type": "code",
   "execution_count": 14,
   "id": "a5266e4e",
   "metadata": {},
   "outputs": [
    {
     "name": "stdout",
     "output_type": "stream",
     "text": [
      "[1, 2, 3, 4, 5]\n",
      "[1, 2, 3, 4]\n"
     ]
    }
   ],
   "source": [
    "b.append(5)\n",
    "\n",
    "print(b)  # Main List\n",
    "print(c)  # Copied List"
   ]
  },
  {
   "cell_type": "code",
   "execution_count": 15,
   "id": "04a2a74a",
   "metadata": {},
   "outputs": [
    {
     "name": "stdout",
     "output_type": "stream",
     "text": [
      "3\n"
     ]
    }
   ],
   "source": [
    "# count()\n",
    "\n",
    "d = [1, 2, 3, 4, 3, 9, 10, 1, 2, 1]\n",
    "print(d.count(1))\n"
   ]
  },
  {
   "cell_type": "code",
   "execution_count": 16,
   "id": "4d273f41",
   "metadata": {},
   "outputs": [
    {
     "name": "stdout",
     "output_type": "stream",
     "text": [
      "3\n"
     ]
    }
   ],
   "source": [
    "# index()\n",
    "\n",
    "e = [\"Osama\", \"Ahmed\", \"Sayed\", \"Ramy\", \"Ahmed\", \"Ramy\"]\n",
    "print(e.index(\"Ramy\"))"
   ]
  },
  {
   "cell_type": "code",
   "execution_count": 21,
   "id": "ec4e8b94",
   "metadata": {},
   "outputs": [
    {
     "name": "stdout",
     "output_type": "stream",
     "text": [
      "['Test', 1, 2, 3, 4, 5, 'A', 'B']\n"
     ]
    }
   ],
   "source": [
    "# insert()\n",
    "\n",
    "f = [1, 2, 3, 4, 5, \"A\", \"B\"]\n",
    "f.insert(0, \"Test\")\n",
    "\n",
    "print(f)"
   ]
  },
  {
   "cell_type": "code",
   "execution_count": 23,
   "id": "31b9fab0",
   "metadata": {},
   "outputs": [
    {
     "name": "stdout",
     "output_type": "stream",
     "text": [
      "5\n"
     ]
    },
    {
     "data": {
      "text/plain": [
       "[1, 2, 3, 4, 'A', 'B']"
      ]
     },
     "execution_count": 23,
     "metadata": {},
     "output_type": "execute_result"
    }
   ],
   "source": [
    "# pop()\n",
    "\n",
    "g = [1, 2, 3, 4, 5, \"A\", \"B\"]\n",
    "print(g.pop(-3))\n",
    "g"
   ]
  },
  {
   "cell_type": "code",
   "execution_count": 25,
   "id": "da1bc7f1",
   "metadata": {},
   "outputs": [
    {
     "name": "stdout",
     "output_type": "stream",
     "text": [
      "[1, 3, 4, 2]\n",
      "[1, 3, 4]\n",
      "2\n"
     ]
    }
   ],
   "source": [
    "# Example of remove()\n",
    "lst = [1, 2, 3, 4, 2]\n",
    "lst.remove(2)  # Removes the first occurrence of 2\n",
    "print(lst)  # [1, 3, 4, 2]\n",
    "\n",
    "# Example of pop()\n",
    "lst = [1, 2, 3, 4]\n",
    "x = lst.pop(1)  # Removes the element at index 1 (which is 2)\n",
    "print(lst)  # [1, 3, 4]\n",
    "print(x)    # 2\n"
   ]
  },
  {
   "cell_type": "code",
   "execution_count": null,
   "id": "2967bedb",
   "metadata": {},
   "outputs": [],
   "source": []
  },
  {
   "cell_type": "markdown",
   "id": "e18fc89b",
   "metadata": {},
   "source": [
    "## 🎤 Session Wrap-Up  \n",
    "\n",
    "That's it for today's explanation! 🎉  \n",
    "I hope you found it helpful and insightful.  \n",
    "\n"
   ]
  },
  {
   "cell_type": "markdown",
   "id": "729e45f1",
   "metadata": {},
   "source": [
    "# Contact Me 📞✉️\n",
    "\n",
    "Feel free to reach out to me anytime!  \n",
    "\n",
    "- 📱 **Phone:** 01029377961\n",
    "- 📱 **Phone:** 01060976750 \n",
    "\n",
    "- 📧 **LinkedIn:** https://www.linkedin.com/in/youssef-ibrahim-179738243?utm_source=share&utm_campaign=share_via&utm_content=profile&utm_medium=android_app \n"
   ]
  },
  {
   "cell_type": "code",
   "execution_count": null,
   "id": "1d437ec6",
   "metadata": {},
   "outputs": [],
   "source": []
  }
 ],
 "metadata": {
  "kernelspec": {
   "display_name": "Python 3 (ipykernel)",
   "language": "python",
   "name": "python3"
  },
  "language_info": {
   "codemirror_mode": {
    "name": "ipython",
    "version": 3
   },
   "file_extension": ".py",
   "mimetype": "text/x-python",
   "name": "python",
   "nbconvert_exporter": "python",
   "pygments_lexer": "ipython3",
   "version": "3.11.5"
  },
  "varInspector": {
   "cols": {
    "lenName": 16,
    "lenType": 16,
    "lenVar": 40
   },
   "kernels_config": {
    "python": {
     "delete_cmd_postfix": "",
     "delete_cmd_prefix": "del ",
     "library": "var_list.py",
     "varRefreshCmd": "print(var_dic_list())"
    },
    "r": {
     "delete_cmd_postfix": ") ",
     "delete_cmd_prefix": "rm(",
     "library": "var_list.r",
     "varRefreshCmd": "cat(var_dic_list()) "
    }
   },
   "types_to_exclude": [
    "module",
    "function",
    "builtin_function_or_method",
    "instance",
    "_Feature"
   ],
   "window_display": false
  }
 },
 "nbformat": 4,
 "nbformat_minor": 5
}
