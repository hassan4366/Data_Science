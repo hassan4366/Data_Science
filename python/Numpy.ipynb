{
  "metadata": {
    "kernelspec": {
      "name": "python",
      "display_name": "Python (Pyodide)",
      "language": "python"
    },
    "language_info": {
      "codemirror_mode": {
        "name": "python",
        "version": 3
      },
      "file_extension": ".py",
      "mimetype": "text/x-python",
      "name": "python",
      "nbconvert_exporter": "python",
      "pygments_lexer": "ipython3",
      "version": "3.8"
    }
  },
  "nbformat_minor": 4,
  "nbformat": 4,
  "cells": [
    {
      "cell_type": "code",
      "source": "import numpy as np",
      "metadata": {
        "trusted": true
      },
      "outputs": [],
      "execution_count": 1
    },
    {
      "cell_type": "markdown",
      "source": "\n#### 1. **Write a NumPy code to reshape a 1D array of size 12 into a 2x6 array.**\n\n\n",
      "metadata": {}
    },
    {
      "cell_type": "code",
      "source": "a = np.arange(12)\nb = a.reshape(2, 6)\nb\n",
      "metadata": {
        "vscode": {
          "languageId": "plaintext"
        },
        "trusted": true
      },
      "outputs": [
        {
          "execution_count": 21,
          "output_type": "execute_result",
          "data": {
            "text/plain": "array([[ 0,  1,  2,  3,  4,  5],\n       [ 6,  7,  8,  9, 10, 11]])"
          },
          "metadata": {}
        }
      ],
      "execution_count": 21
    },
    {
      "cell_type": "markdown",
      "source": "#### 2. **Write a NumPy code to stack two arrays `arr1 = [1, 2, 3]` and `arr2 = [4, 5, 6]` vertically.**\n\n\n",
      "metadata": {}
    },
    {
      "cell_type": "code",
      "source": "arr1 = np.array([1, 2, 3])\narr2 = np.array([4, 5, 6])\n\nx = np.vstack((arr1, arr2))\nx\n",
      "metadata": {
        "vscode": {
          "languageId": "plaintext"
        },
        "trusted": true
      },
      "outputs": [
        {
          "execution_count": 2,
          "output_type": "execute_result",
          "data": {
            "text/plain": "array([[1, 2, 3],\n       [4, 5, 6]])"
          },
          "metadata": {}
        }
      ],
      "execution_count": 2
    },
    {
      "cell_type": "markdown",
      "source": "#### 3. **Write a NumPy code to shuffle the elements of a list `arr = [1, 2, 3, 4, 5]` in place using `random.shuffle()`.**\n",
      "metadata": {}
    },
    {
      "cell_type": "code",
      "source": "import random\nb = [1, 2, 3, 4, 5]\nrandom.shuffle(b)\nb",
      "metadata": {
        "vscode": {
          "languageId": "plaintext"
        },
        "trusted": true
      },
      "outputs": [
        {
          "execution_count": 14,
          "output_type": "execute_result",
          "data": {
            "text/plain": "[2, 3, 5, 1, 4]"
          },
          "metadata": {}
        }
      ],
      "execution_count": 14
    },
    {
      "cell_type": "markdown",
      "source": "\n#### 4. **Write a NumPy code to create a copy of the array `arr = [1, 2, 3]` using `b.copy()` and modify the copy.**\n",
      "metadata": {}
    },
    {
      "cell_type": "code",
      "source": "b = [1, 2, 3]\nb.copy\nb",
      "metadata": {
        "vscode": {
          "languageId": "plaintext"
        },
        "trusted": true
      },
      "outputs": [
        {
          "execution_count": 15,
          "output_type": "execute_result",
          "data": {
            "text/plain": "[1, 2, 3]"
          },
          "metadata": {}
        }
      ],
      "execution_count": 15
    },
    {
      "cell_type": "markdown",
      "source": "\n#### 5. **Write a NumPy code to flatten a 2D array `arr = [[1, 2], [3, 4]]` into a 1D array.**\n",
      "metadata": {}
    },
    {
      "cell_type": "code",
      "source": "b = np.array([[1, 2], [3, 4]])\nx = b.flatten()\nx",
      "metadata": {
        "vscode": {
          "languageId": "plaintext"
        },
        "trusted": true
      },
      "outputs": [
        {
          "execution_count": 23,
          "output_type": "execute_result",
          "data": {
            "text/plain": "array([1, 2, 3, 4])"
          },
          "metadata": {}
        }
      ],
      "execution_count": 23
    },
    {
      "cell_type": "markdown",
      "source": "\n#### 6. **Write a NumPy code to create a 3x3 matrix with random integers between 1 and 10.**\n",
      "metadata": {}
    },
    {
      "cell_type": "code",
      "source": "x = np.random.randint(1,10 ,size =(3,3))\nx",
      "metadata": {
        "vscode": {
          "languageId": "plaintext"
        },
        "trusted": true
      },
      "outputs": [
        {
          "execution_count": 26,
          "output_type": "execute_result",
          "data": {
            "text/plain": "array([[9, 5, 9],\n       [4, 4, 2],\n       [7, 7, 8]])"
          },
          "metadata": {}
        }
      ],
      "execution_count": 26
    },
    {
      "cell_type": "markdown",
      "source": "\n#### 7. **Write a NumPy code to calculate the sum of all elements in a 3x3 matrix.**\n",
      "metadata": {}
    },
    {
      "cell_type": "code",
      "source": "result = np.sum(x)\nresult",
      "metadata": {
        "vscode": {
          "languageId": "plaintext"
        },
        "trusted": true
      },
      "outputs": [
        {
          "execution_count": 28,
          "output_type": "execute_result",
          "data": {
            "text/plain": "np.int32(55)"
          },
          "metadata": {}
        }
      ],
      "execution_count": 28
    },
    {
      "cell_type": "markdown",
      "source": "\n#### 8. **Write a NumPy code to create a 3D array of shape `(3, 2, 4)` and calculate the sum along the second axis.**\n\n",
      "metadata": {}
    },
    {
      "cell_type": "code",
      "source": "arr = np.arange(24).reshape(3, 2, 4) #2*3*4 = 24 \n\nsum = np.sum(arr, axis=1)\n\nprint(\"Original array:\\n\", arr)\nprint(\"\\nSum along axis 1:\\n\", sum)\n",
      "metadata": {
        "vscode": {
          "languageId": "plaintext"
        },
        "trusted": true
      },
      "outputs": [
        {
          "name": "stdout",
          "output_type": "stream",
          "text": "Original array:\n [[[ 0  1  2  3]\n  [ 4  5  6  7]]\n\n [[ 8  9 10 11]\n  [12 13 14 15]]\n\n [[16 17 18 19]\n  [20 21 22 23]]]\n\nSum along axis 1:\n [[ 4  6  8 10]\n [20 22 24 26]\n [36 38 40 42]]\n"
        }
      ],
      "execution_count": 36
    },
    {
      "cell_type": "markdown",
      "source": "#### 9. **Write a NumPy code to create an array of integers from 10 to 50 and select all even numbers.**\n",
      "metadata": {}
    },
    {
      "cell_type": "code",
      "source": "arr = np.arange(10, 50)\nx = arr[arr % 2 == 0]\nx",
      "metadata": {
        "vscode": {
          "languageId": "plaintext"
        },
        "trusted": true
      },
      "outputs": [
        {
          "execution_count": 38,
          "output_type": "execute_result",
          "data": {
            "text/plain": "array([10, 12, 14, 16, 18, 20, 22, 24, 26, 28, 30, 32, 34, 36, 38, 40, 42,\n       44, 46, 48])"
          },
          "metadata": {}
        }
      ],
      "execution_count": 38
    },
    {
      "cell_type": "markdown",
      "source": "\n#### 10. **Write a NumPy code to create a 1D array and find the maximum, minimum, mean, and standard deviation of its elements.**\n",
      "metadata": {}
    },
    {
      "cell_type": "code",
      "source": "arr = np.random.randint(1, 4, 8)\narr\narr.max()\n#arr.min()\n#arr.mean()\n#arr.std()",
      "metadata": {
        "vscode": {
          "languageId": "plaintext"
        },
        "trusted": true
      },
      "outputs": [
        {
          "execution_count": 8,
          "output_type": "execute_result",
          "data": {
            "text/plain": "np.int32(3)"
          },
          "metadata": {}
        }
      ],
      "execution_count": 8
    },
    {
      "cell_type": "markdown",
      "source": "\n#### 11. **Write a NumPy code to calculate the dot product of two arrays `a = np.array([1, 2])` and `b = np.array([3, 4])`.**\n",
      "metadata": {}
    },
    {
      "cell_type": "code",
      "source": "a = np.array([1, 2])\nb = np.array([3, 4])\n\nproduct = np.dot(a, b)\n\nproduct\n",
      "metadata": {
        "vscode": {
          "languageId": "plaintext"
        },
        "trusted": true
      },
      "outputs": [
        {
          "execution_count": 9,
          "output_type": "execute_result",
          "data": {
            "text/plain": "np.int32(11)"
          },
          "metadata": {}
        }
      ],
      "execution_count": 9
    },
    {
      "cell_type": "markdown",
      "source": "\n#### 12. **Write a NumPy code to slice a 2D array and retrieve all elements from the second row.**\n\n",
      "metadata": {}
    },
    {
      "cell_type": "code",
      "source": "arr = np.array([[1, 2, 3],\n                [4, 5, 6],\n                [7, 8, 9]])\n\nr2 = arr[1]\nr2\n",
      "metadata": {
        "vscode": {
          "languageId": "plaintext"
        },
        "trusted": true
      },
      "outputs": [
        {
          "execution_count": 12,
          "output_type": "execute_result",
          "data": {
            "text/plain": "array([4, 5, 6])"
          },
          "metadata": {}
        }
      ],
      "execution_count": 12
    },
    {
      "cell_type": "markdown",
      "source": "#### 13. **Write a NumPy code to slice a 1D array and retrieve elements from index 2 to 4.**\n",
      "metadata": {}
    },
    {
      "cell_type": "code",
      "source": "arr = np.array([12, 21, 33, 12, 43, 12, 43])\n\nresult = arr[2:4]\n\nresult\n",
      "metadata": {
        "vscode": {
          "languageId": "plaintext"
        },
        "trusted": true
      },
      "outputs": [
        {
          "execution_count": 15,
          "output_type": "execute_result",
          "data": {
            "text/plain": "array([33, 12])"
          },
          "metadata": {}
        }
      ],
      "execution_count": 15
    },
    {
      "cell_type": "markdown",
      "source": "\n#### 14. **Write a NumPy code to reshape a 1D array into a 2D array of shape (2, 3) and flatten it back to 1D.**\n\n",
      "metadata": {}
    },
    {
      "cell_type": "code",
      "source": "arr = np.array([1, 2, 3, 4 ,7, 8])\nx = arr.reshape((2, 3))\nx",
      "metadata": {
        "vscode": {
          "languageId": "plaintext"
        },
        "trusted": true
      },
      "outputs": [
        {
          "execution_count": 23,
          "output_type": "execute_result",
          "data": {
            "text/plain": "array([[1, 2, 3],\n       [4, 7, 8]])"
          },
          "metadata": {}
        }
      ],
      "execution_count": 23
    },
    {
      "cell_type": "markdown",
      "source": "#### 15. **Write a NumPy code to generate an array of 10 random integers between 1 and 100.**",
      "metadata": {}
    },
    {
      "cell_type": "code",
      "source": "np.random.randint(1,100,10)",
      "metadata": {
        "vscode": {
          "languageId": "plaintext"
        },
        "trusted": true
      },
      "outputs": [
        {
          "execution_count": 26,
          "output_type": "execute_result",
          "data": {
            "text/plain": "array([60, 75, 88, 41, 54, 25, 50, 55, 46, 95])"
          },
          "metadata": {}
        }
      ],
      "execution_count": 26
    }
  ]
}