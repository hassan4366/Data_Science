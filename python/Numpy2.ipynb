{
  "metadata": {
    "kernelspec": {
      "name": "python",
      "display_name": "Python (Pyodide)",
      "language": "python"
    },
    "language_info": {
      "codemirror_mode": {
        "name": "python",
        "version": 3
      },
      "file_extension": ".py",
      "mimetype": "text/x-python",
      "name": "python",
      "nbconvert_exporter": "python",
      "pygments_lexer": "ipython3",
      "version": "3.8"
    }
  },
  "nbformat_minor": 4,
  "nbformat": 4,
  "cells": [
    {
      "cell_type": "code",
      "source": "import numpy as np",
      "metadata": {
        "trusted": true
      },
      "outputs": [],
      "execution_count": 1
    },
    {
      "cell_type": "markdown",
      "source": "\n#### 1. **Create an array of 10 zeros**\n",
      "metadata": {}
    },
    {
      "cell_type": "code",
      "source": "a = np.zeros(10)\na",
      "metadata": {
        "trusted": true
      },
      "outputs": [
        {
          "execution_count": 2,
          "output_type": "execute_result",
          "data": {
            "text/plain": "array([0., 0., 0., 0., 0., 0., 0., 0., 0., 0.])"
          },
          "metadata": {}
        }
      ],
      "execution_count": 2
    },
    {
      "cell_type": "markdown",
      "source": "#### 2. **Create an array of 10 ones**\n\n",
      "metadata": {}
    },
    {
      "cell_type": "code",
      "source": "b = np.ones(10)\nb",
      "metadata": {
        "trusted": true
      },
      "outputs": [
        {
          "execution_count": 3,
          "output_type": "execute_result",
          "data": {
            "text/plain": "array([1., 1., 1., 1., 1., 1., 1., 1., 1., 1.])"
          },
          "metadata": {}
        }
      ],
      "execution_count": 3
    },
    {
      "cell_type": "markdown",
      "source": "#### 3. **Create an array of 10 fives**\n\n",
      "metadata": {}
    },
    {
      "cell_type": "code",
      "source": "c = np.full(10 , 5)\nc",
      "metadata": {
        "trusted": true
      },
      "outputs": [
        {
          "execution_count": 5,
          "output_type": "execute_result",
          "data": {
            "text/plain": "array([5, 5, 5, 5, 5, 5, 5, 5, 5, 5])"
          },
          "metadata": {}
        }
      ],
      "execution_count": 5
    },
    {
      "cell_type": "markdown",
      "source": "#### 4. **Create a NumPy array of integers from 1 to 10**\n\n",
      "metadata": {}
    },
    {
      "cell_type": "code",
      "source": "arr = np.arange(1, 11)\narr\n",
      "metadata": {
        "trusted": true
      },
      "outputs": [
        {
          "execution_count": 6,
          "output_type": "execute_result",
          "data": {
            "text/plain": "array([ 1,  2,  3,  4,  5,  6,  7,  8,  9, 10])"
          },
          "metadata": {}
        }
      ],
      "execution_count": 6
    },
    {
      "cell_type": "markdown",
      "source": "#### 5. **Create a 3x3 identity matrix**\n\n",
      "metadata": {}
    },
    {
      "cell_type": "code",
      "source": "np.eye(3)",
      "metadata": {
        "trusted": true
      },
      "outputs": [
        {
          "execution_count": 8,
          "output_type": "execute_result",
          "data": {
            "text/plain": "array([[1., 0., 0.],\n       [0., 1., 0.],\n       [0., 0., 1.]])"
          },
          "metadata": {}
        }
      ],
      "execution_count": 8
    },
    {
      "cell_type": "markdown",
      "source": "#### 6. **Create a 2D array with values ranging from 1 to 6**\n\n",
      "metadata": {}
    },
    {
      "cell_type": "code",
      "source": "arr = np.arange(1, 7).reshape(2, 3)\narr",
      "metadata": {
        "trusted": true
      },
      "outputs": [
        {
          "execution_count": 11,
          "output_type": "execute_result",
          "data": {
            "text/plain": "array([[1, 2, 3],\n       [4, 5, 6]])"
          },
          "metadata": {}
        }
      ],
      "execution_count": 11
    },
    {
      "cell_type": "markdown",
      "source": "#### 7. **Create an array filled with zeros**\n\n",
      "metadata": {}
    },
    {
      "cell_type": "code",
      "source": "np.zeros(5)",
      "metadata": {
        "trusted": true
      },
      "outputs": [
        {
          "execution_count": 12,
          "output_type": "execute_result",
          "data": {
            "text/plain": "array([0., 0., 0., 0., 0.])"
          },
          "metadata": {}
        }
      ],
      "execution_count": 12
    },
    {
      "cell_type": "markdown",
      "source": "#### 8. **Create a 3x3 array filled with 25**\n\n",
      "metadata": {}
    },
    {
      "cell_type": "code",
      "source": "arr = np.full((3,3) , 25)\narr",
      "metadata": {
        "trusted": true
      },
      "outputs": [
        {
          "execution_count": 16,
          "output_type": "execute_result",
          "data": {
            "text/plain": "array([[25, 25, 25],\n       [25, 25, 25],\n       [25, 25, 25]])"
          },
          "metadata": {}
        }
      ],
      "execution_count": 16
    },
    {
      "cell_type": "markdown",
      "source": "#### 9. **Create an array of random numbers between 0 and 1**\n",
      "metadata": {}
    },
    {
      "cell_type": "code",
      "source": "np.random.random(5)",
      "metadata": {
        "trusted": true
      },
      "outputs": [
        {
          "execution_count": 17,
          "output_type": "execute_result",
          "data": {
            "text/plain": "array([0.34646361, 0.29813221, 0.46087126, 0.0531147 , 0.37839441])"
          },
          "metadata": {}
        }
      ],
      "execution_count": 17
    },
    {
      "cell_type": "markdown",
      "source": "\n#### 10. **Create an array of random integers between 1 and 100, with a shape of (3, 6)**\n",
      "metadata": {}
    },
    {
      "cell_type": "code",
      "source": "np.random.randint(1,100 , size=(3,6))",
      "metadata": {
        "trusted": true
      },
      "outputs": [
        {
          "execution_count": 19,
          "output_type": "execute_result",
          "data": {
            "text/plain": "array([[81, 66, 66, 95,  8,  6],\n       [10,  3, 63, 41, 89, 53],\n       [61, 38, 73, 70, 94,  7]])"
          },
          "metadata": {}
        }
      ],
      "execution_count": 19
    },
    {
      "cell_type": "markdown",
      "source": "\n#### 11. **Create an array of linearly spaced numbers between 0 and 1, with 5 elements**\n",
      "metadata": {}
    },
    {
      "cell_type": "code",
      "source": "arr = np.linspace(0, 1, 5)\narr",
      "metadata": {
        "trusted": true
      },
      "outputs": [
        {
          "execution_count": 20,
          "output_type": "execute_result",
          "data": {
            "text/plain": "array([0.  , 0.25, 0.5 , 0.75, 1.  ])"
          },
          "metadata": {}
        }
      ],
      "execution_count": 20
    },
    {
      "cell_type": "markdown",
      "source": "\n#### 12. **Create a random 3x4 array using NumPy**\n\n",
      "metadata": {}
    },
    {
      "cell_type": "code",
      "source": "np.random.randint(1,30 , size=(3,4))",
      "metadata": {
        "trusted": true
      },
      "outputs": [
        {
          "execution_count": 22,
          "output_type": "execute_result",
          "data": {
            "text/plain": "array([[ 6, 11, 16, 12],\n       [ 6, 15,  6, 19],\n       [15, 13, 16, 25]])"
          },
          "metadata": {}
        }
      ],
      "execution_count": 22
    },
    {
      "cell_type": "markdown",
      "source": "#### 13. **Create an array of 3x3 random integers between 0 and 50**\n\n",
      "metadata": {}
    },
    {
      "cell_type": "code",
      "source": "np.random.randint(0,50 , size=(3,3))",
      "metadata": {
        "trusted": true
      },
      "outputs": [
        {
          "execution_count": 23,
          "output_type": "execute_result",
          "data": {
            "text/plain": "array([[ 1, 33,  3],\n       [42,  7, 48],\n       [24, 41,  9]])"
          },
          "metadata": {}
        }
      ],
      "execution_count": 23
    },
    {
      "cell_type": "markdown",
      "source": "#### 14. **Create a diagonal matrix from the array [1, 2, 3, 4]**\n",
      "metadata": {}
    },
    {
      "cell_type": "code",
      "source": "arr = np.array([1, 2, 3, 4])\ndm = np.diag(arr)\ndm\n",
      "metadata": {
        "trusted": true
      },
      "outputs": [
        {
          "execution_count": 24,
          "output_type": "execute_result",
          "data": {
            "text/plain": "array([[1, 0, 0, 0],\n       [0, 2, 0, 0],\n       [0, 0, 3, 0],\n       [0, 0, 0, 4]])"
          },
          "metadata": {}
        }
      ],
      "execution_count": 24
    },
    {
      "cell_type": "markdown",
      "source": "\n#### 15. **Create an array of 10 random floats between 1 and 100**",
      "metadata": {}
    },
    {
      "cell_type": "code",
      "source": "array_1d = np.random.uniform(1,100 ,10)\narray_1d",
      "metadata": {
        "trusted": true
      },
      "outputs": [
        {
          "execution_count": 26,
          "output_type": "execute_result",
          "data": {
            "text/plain": "array([82.88965336, 97.96465005, 36.73157111, 86.12580049, 40.0678977 ,\n       83.48482892, 41.0093893 , 52.68143303, 68.18135423, 84.61690031])"
          },
          "metadata": {}
        }
      ],
      "execution_count": 26
    },
    {
      "cell_type": "markdown",
      "source": " ### 16.Add 10 to each element of the array a = np.array([1, 2, 3, 4, 5])",
      "metadata": {}
    },
    {
      "cell_type": "code",
      "source": "a = np.array([1, 2, 3, 4, 5])\nc = a + 10\nc",
      "metadata": {
        "trusted": true
      },
      "outputs": [
        {
          "execution_count": 28,
          "output_type": "execute_result",
          "data": {
            "text/plain": "array([11, 12, 13, 14, 15])"
          },
          "metadata": {}
        }
      ],
      "execution_count": 28
    },
    {
      "cell_type": "markdown",
      "source": "###  17.Perform integer division of each element of the array(Create an array of 10 random floats) a  by 2",
      "metadata": {}
    },
    {
      "cell_type": "code",
      "source": "c = np.random.random(10)\nb = c /2 \nb\n",
      "metadata": {
        "trusted": true
      },
      "outputs": [
        {
          "execution_count": 31,
          "output_type": "execute_result",
          "data": {
            "text/plain": "array([0.37744652, 0.16127689, 0.44895983, 0.30464936, 0.31927388,\n       0.08500874, 0.06030425, 0.44224934, 0.41897532, 0.301559  ])"
          },
          "metadata": {}
        }
      ],
      "execution_count": 31
    }
  ]
}