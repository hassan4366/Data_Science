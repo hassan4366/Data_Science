{
  "metadata": {
    "kernelspec": {
      "name": "python",
      "display_name": "Python (Pyodide)",
      "language": "python"
    },
    "language_info": {
      "codemirror_mode": {
        "name": "python",
        "version": 3
      },
      "file_extension": ".py",
      "mimetype": "text/x-python",
      "name": "python",
      "nbconvert_exporter": "python",
      "pygments_lexer": "ipython3",
      "version": "3.8"
    },
    "colab": {
      "provenance": []
    }
  },
  "nbformat_minor": 4,
  "nbformat": 4,
  "cells": [
    {
      "cell_type": "markdown",
      "source": "# Pandas Task",
      "metadata": {
        "id": "dXkNLPK9VL5P"
      }
    },
    {
      "cell_type": "markdown",
      "source": "1) Load the dataset into a pandas DataFrame and display the first 5 rows.\n",
      "metadata": {
        "id": "s1TcXUWML9aS"
      }
    },
    {
      "cell_type": "code",
      "source": "# Load the dataset\nimport pandas as pd",
      "metadata": {
        "id": "7vjQt957Li9D",
        "trusted": true
      },
      "outputs": [],
      "execution_count": 3
    },
    {
      "cell_type": "code",
      "source": "# Display the first 5 rows\nx = ['hassan', 'mohamed', 'ahmed', 'osama', 'hamada']\nb = pd.Series(x)\nb",
      "metadata": {
        "id": "MI7XjYhzMggA",
        "trusted": true
      },
      "outputs": [
        {
          "execution_count": 5,
          "output_type": "execute_result",
          "data": {
            "text/plain": "0     hassan\n1    mohamed\n2      ahmed\n3      osama\n4     hamada\ndtype: object"
          },
          "metadata": {}
        }
      ],
      "execution_count": 5
    },
    {
      "cell_type": "markdown",
      "source": "2) How many students are there in the dataset?\n",
      "metadata": {
        "id": "zDqNjbY4L9hw"
      }
    },
    {
      "cell_type": "code",
      "source": "# Count the number of rows\nfive rows",
      "metadata": {
        "id": "GxXTAyLKMXsx"
      },
      "outputs": [],
      "execution_count": null
    },
    {
      "cell_type": "markdown",
      "source": "3) What are the unique values in the 'gender' column?\n",
      "metadata": {
        "id": "FO0vvtceL9kz"
      }
    },
    {
      "cell_type": "code",
      "source": "# Get unique values in the 'gender' column\n3-female\tgroup C\n8-female\tgroup B\n10-male \tgroup D\n15-male \tgroup A\n20-male \tgroup C \n23-female\tgroup B",
      "metadata": {
        "id": "edcmzZs8MYIo"
      },
      "outputs": [],
      "execution_count": null
    },
    {
      "cell_type": "markdown",
      "source": "4) Create a new column 'total_score' which sums up the scores of math, reading, and writing for each student.\n",
      "metadata": {
        "id": "RiO7jjzzL9tT"
      }
    },
    {
      "cell_type": "code",
      "source": "# Create a new column 'total_score'\nimport pandas as pd\n\ndf = pd.DataFrame({\n    'student': ['Hassan', 'Ahmed', 'Mohamed'],\n    'math': [85, 90, 95],\n    'reading': [88, 92, 85],\n    'writing': [84, 89, 91]\n})\n\n# Create a new column 'total_score'\ndf['total_score'] = df['math'] + df['reading'] + df['writing']\n\nprint(df)\n",
      "metadata": {
        "id": "qXJRbXNPMZos",
        "trusted": true
      },
      "outputs": [
        {
          "name": "stdout",
          "output_type": "stream",
          "text": "   student  math  reading  writing  total_score\n0   Hassan    85       88       84          257\n1    Ahmed    90       92       89          271\n2  Mohamed    95       85       91          271\n"
        }
      ],
      "execution_count": 18
    },
    {
      "cell_type": "markdown",
      "source": "5.Create a new column 'pass_status' which contains 'Pass' if the student's total score is greater than or equal to 150, otherwise 'Fail'.\n",
      "metadata": {
        "id": "WdL47R6TMPG9"
      }
    },
    {
      "cell_type": "code",
      "source": "# Create a new column 'pass_status'\nimport pandas as pd\n\ndf = pd.DataFrame({\n    'student': ['Hassan', 'Ahmed', 'Mohamed'],\n    'math': [85, 90, 95],\n    'reading': [88, 92, 85],\n    'writing': [84, 89, 91]\n})\n\n# Create a new column 'total_score'\ndf['total_score'] = df['math'] + df['reading'] + df['writing']\n\ndef get_pass_status(row):\n    \n    if row ['total_score'] >=150 :\n        return 'success'\n    else:\n        return 'Fail'\n\n# row علي كل check السطر ده علشان يعمل \ndf['pass_status'] = df.apply(get_pass_status, axis=1)\n\nprint(df)\n",
      "metadata": {
        "id": "HhJXOtSbMbm_",
        "trusted": true
      },
      "outputs": [
        {
          "name": "stdout",
          "output_type": "stream",
          "text": "   student  math  reading  writing  total_score pass_status\n0   Hassan    85       88       84          257     success\n1    Ahmed    90       92       89          271     success\n2  Mohamed    95       85       91          271     success\n"
        }
      ],
      "execution_count": 28
    },
    {
      "cell_type": "markdown",
      "source": "6) How many null values are there in each column of the dataset?\n",
      "metadata": {
        "id": "lla-nroHUMwE"
      }
    },
    {
      "cell_type": "code",
      "source": "test preparation course : 19 value",
      "metadata": {},
      "outputs": [],
      "execution_count": null
    },
    {
      "cell_type": "markdown",
      "source": "7.Create a Pandas Series from the dictionary {\"A\": 10, \"B\": 20, \"C\": 30}. Then, replace the value at index \"B\" with 99 and access the value at index \"C\" using .loc[].",
      "metadata": {
        "id": "F-u3Q2LgVBVx"
      }
    },
    {
      "cell_type": "code",
      "source": "import pandas as pd\n\ndata = {\"A\": 10, \"B\": 20, \"C\": 30}\nseries = pd.Series(data)\n\nseries[\"B\"] = 99\n\nvalue_c = series.loc[\"C\"]\n\nprint(series)\nprint(value_c)\n",
      "metadata": {
        "trusted": true
      },
      "outputs": [
        {
          "name": "stdout",
          "output_type": "stream",
          "text": "A    10\nB    99\nC    30\ndtype: int64\n30\n"
        }
      ],
      "execution_count": 13
    },
    {
      "cell_type": "markdown",
      "source": "8.Initialize a DataFrame using the following data:\ndata = {\"Name\": [\"Alice\", \"Bob\", \"Charlie\"], \"Age\": [25, 30, 35]}\nThen, add a new column \"Salary\" with values [50000, 60000, 70000].",
      "metadata": {}
    },
    {
      "cell_type": "code",
      "source": "import pandas as pd\n\ndata = {\n    \"Name\": [\"Alice\", \"Bob\", \"Charlie\"],\n    \"Age\": [25, 30, 35]\n}\n\nx = pd.DataFrame(data)\n\nx[\"Salary\"] = [50000, 60000, 70000]\n\nprint(x)\n",
      "metadata": {
        "trusted": true
      },
      "outputs": [
        {
          "name": "stdout",
          "output_type": "stream",
          "text": "      Name  Age  Salary\n0    Alice   25   50000\n1      Bob   30   60000\n2  Charlie   35   70000\n"
        }
      ],
      "execution_count": 14
    },
    {
      "cell_type": "markdown",
      "source": "9.Given the DataFrame below, replace all NaN values with the mean of their respective columns.\ndf = pd.DataFrame({\"A\": [1, 2, np.nan], \"B\": [5, np.nan, 7], \"C\": [np.nan, 10, 11]})",
      "metadata": {}
    },
    {
      "cell_type": "code",
      "source": "",
      "metadata": {},
      "outputs": [],
      "execution_count": null
    },
    {
      "cell_type": "markdown",
      "source": "10.A DataFrame has duplicate rows. Identify them using .duplicated() and remove them using .drop_duplicates().\nExample DataFrame:\ndf = pd.DataFrame({\"X\": [\"A\", \"B\", \"A\", \"C\"], \"Y\": [1, 2, 1, 3]})",
      "metadata": {}
    },
    {
      "cell_type": "code",
      "source": "import pandas as pd\n\ndf = pd.DataFrame({\n    \"X\": [\"A\", \"B\", \"A\", \"C\"],\n    \"Y\": [1, 2, 1, 3]\n})\n\n\nduplicates = df.duplicated()\nprint(\"Duplicate rows:\\n\", duplicates)\n\ndf_no_duplicates = df.drop_duplicates()\n\nprint(\"\\nDataFrame removing duplicates\\n\", df_no_duplicates)\n",
      "metadata": {
        "trusted": true
      },
      "outputs": [
        {
          "name": "stdout",
          "output_type": "stream",
          "text": "Duplicate rows:\n 0    False\n1    False\n2     True\n3    False\ndtype: bool\n\nDataFrame after removing duplicates:\n    X  Y\n0  A  1\n1  B  2\n3  C  3\n"
        }
      ],
      "execution_count": 15
    },
    {
      "cell_type": "markdown",
      "source": "# Dataset",
      "metadata": {
        "id": "jDlEJOSXVEGQ"
      }
    },
    {
      "cell_type": "markdown",
      "source": "https://www.kaggle.com/datasets/spscientist/students-performance-in-exams",
      "metadata": {
        "id": "0RqgXZ20U-zY"
      }
    }
  ]
}