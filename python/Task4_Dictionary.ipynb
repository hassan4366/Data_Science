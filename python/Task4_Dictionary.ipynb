{
  "metadata": {
    "kernelspec": {
      "name": "python",
      "display_name": "Python (Pyodide)",
      "language": "python"
    },
    "language_info": {
      "codemirror_mode": {
        "name": "python",
        "version": 3
      },
      "file_extension": ".py",
      "mimetype": "text/x-python",
      "name": "python",
      "nbconvert_exporter": "python",
      "pygments_lexer": "ipython3",
      "version": "3.8"
    },
    "varInspector": {
      "cols": {
        "lenName": 16,
        "lenType": 16,
        "lenVar": 40
      },
      "kernels_config": {
        "python": {
          "delete_cmd_postfix": "",
          "delete_cmd_prefix": "del ",
          "library": "var_list.py",
          "varRefreshCmd": "print(var_dic_list())"
        },
        "r": {
          "delete_cmd_postfix": ") ",
          "delete_cmd_prefix": "rm(",
          "library": "var_list.r",
          "varRefreshCmd": "cat(var_dic_list()) "
        }
      },
      "types_to_exclude": [
        "module",
        "function",
        "builtin_function_or_method",
        "instance",
        "_Feature"
      ],
      "window_display": false
    }
  },
  "nbformat_minor": 5,
  "nbformat": 4,
  "cells": [
    {
      "id": "8367f4de",
      "cell_type": "markdown",
      "source": "# 🎉 Surprise Task! 🎉\n\n## **No Problem-Solving Today!** 🚀  \n### **Your Task:**  \n- Instead of solving exercises, your mission is to **study dictionaries in Python**! 📖  \n- Search for **how dictionaries work**, their **syntax, methods, and use cases**.  \n- Then, **create a structured notebook** explaining **dictionaries** with examples, just like the ones you have been making! 📝  \n\n### **What to Include?**\n1. **Definition of a Dictionary**\n2. **Creating a Dictionary**\n3. **Accessing Values**\n4. **Modifying Dictionaries**\n5. **Dictionary Methods (`keys()`, `values()`, `items()`, etc.)**\n6. **Looping Through a Dictionary**\n7. **Dictionary Comprehensions**\n8. **Practical Examples**  \n\n🔥 **Good luck! Show me your best work!** 🚀  \n",
      "metadata": {}
    },
    {
      "id": "da3e4714",
      "cell_type": "code",
      "source": "1-Definition of a Dictionary\n (value-key pairs) نوع بيانات يُستخدم لتخزين القيم على هيئة \n     غير قابلة للتكرار (keys) {} يتم تعريفه بواسطه الاقواس\n               بينما القيم يمكن أن تكون أي نوع من البيانات",
      "metadata": {},
      "outputs": [],
      "execution_count": null
    },
    {
      "id": "3d46075c-fb74-4908-8776-3617659e45c6",
      "cell_type": "code",
      "source": "# 1-Definition of a Dictionary:Example\ncar = {\n    \"type\": \"mazda\",\n    \"model\": 2022\n    \"color\": \"black\",\n}\n",
      "metadata": {
        "trusted": true
      },
      "outputs": [],
      "execution_count": 5
    },
    {
      "id": "67a6a65a-1741-4ae8-97e5-a24b8167e30d",
      "cell_type": "code",
      "source": "#2-Creating a Dictionary\ncar = {\n    \"brand\": \"Toyota\",\n    \"color\": \"White\",\n    \"year\": 2023\n}\n\n#Another way \ncar = dict(brand=\"Toyota\", model=\"Corolla\", year=2023)\n",
      "metadata": {
        "trusted": true
      },
      "outputs": [],
      "execution_count": 9
    },
    {
      "id": "b3791ed2-73ae-488a-8b54-48e94f589683",
      "cell_type": "code",
      "source": "#3-Accessing Values\ncar = {\n    \"brand\": \"Toyota\",\n    \"color\": \"White\",\n    \"year\": 2023\n}\nprint(car[\"brand\"])  # Toyota\nprint(car.get(\"year\"))  # 2023",
      "metadata": {
        "trusted": true
      },
      "outputs": [
        {
          "name": "stdout",
          "output_type": "stream",
          "text": "Toyota\n2023\n"
        }
      ],
      "execution_count": 19
    },
    {
      "id": "52342fd7-d443-42f8-9897-ba932df0cdf3",
      "cell_type": "code",
      "source": "#4-Modifying Dictionaries,# Modify the value\ncar = dict(brand=\"Toyota\", model=\"Corolla\", year=2023)\ncar [\"year\"] = 2025\nprint(car[\"year\"])",
      "metadata": {
        "trusted": true
      },
      "outputs": [
        {
          "name": "stdout",
          "output_type": "stream",
          "text": "2025\n"
        }
      ],
      "execution_count": 21
    },
    {
      "id": "ce12cff2-4591-4aa6-b6bc-fce5c5d1c3c0",
      "cell_type": "code",
      "source": "#4-Modifying Dictionaries,# add the value\ncar = dict(brand=\"Toyota\", model=\"Corolla\", year=2023)\ncar [\"color\"] = \"blue\"\nprint(car[\"color\"])",
      "metadata": {
        "trusted": true
      },
      "outputs": [
        {
          "name": "stdout",
          "output_type": "stream",
          "text": "blue\n"
        }
      ],
      "execution_count": 22
    },
    {
      "id": "5c623366-44ef-4c48-b188-ddb98ee4c515",
      "cell_type": "code",
      "source": "#4-Modifying Dictionaries,# del the value\ncar = dict(brand=\"Toyota\", model=\"Corolla\", year=2023)\ndel car[\"model\"]\nprint(car.get(\"model\")) #None",
      "metadata": {
        "trusted": true
      },
      "outputs": [
        {
          "name": "stdout",
          "output_type": "stream",
          "text": "None\n"
        }
      ],
      "execution_count": 30
    },
    {
      "id": "8c51ee54-4ef2-4f4e-8f03-af5e9e49e48e",
      "cell_type": "code",
      "source": "#Dictionary Methods (keys(), values(), items(), etc.)\ncar = dict(brand=\"Toyota\", color=\"Red\", year=2023)\nprint(car.keys())\nprint(car.values())\nprint(car.items())",
      "metadata": {
        "trusted": true
      },
      "outputs": [
        {
          "name": "stdout",
          "output_type": "stream",
          "text": "dict_keys(['brand', 'color', 'year'])\ndict_values(['Toyota', 'Red', 2023])\ndict_items([('brand', 'Toyota'), ('color', 'Red'), ('year', 2023)])\n"
        }
      ],
      "execution_count": 32
    },
    {
      "id": "f1ea735c-225d-4799-8df8-6c5fa68e3c8c",
      "cell_type": "code",
      "source": "#Looping Through a Dictionary\ncar = dict(brand=\"Toyota\", color=\"Red\", year=2023)\nfor key in car :\n    print(key)",
      "metadata": {
        "trusted": true
      },
      "outputs": [
        {
          "name": "stdout",
          "output_type": "stream",
          "text": "brand\ncolor\nyear\n"
        }
      ],
      "execution_count": 33
    },
    {
      "id": "d2eb75cd-063a-486f-8b07-ac3d83c8e7fc",
      "cell_type": "code",
      "source": "#Looping Through a Dictionary\ncar = dict(brand=\"Toyota\", color=\"Red\", year=2023)\nfor key,value in car.items ():\n    print(f\"{key}:{value}\")",
      "metadata": {
        "trusted": true
      },
      "outputs": [
        {
          "name": "stdout",
          "output_type": "stream",
          "text": "brand:Toyota\ncolor:Red\nyear:2023\n"
        }
      ],
      "execution_count": 34
    },
    {
      "id": "238acc0f-d0ff-459c-9291-b1c05abd2e78",
      "cell_type": "code",
      "source": "#Dictionary Comprehensions \nstudents = {\"Ahmed\": 85, \"Sara\": 79, \"Ali\": 75}\npassed = {name: grade for name, grade in students.items() if grade >= 70}\nprint(passed) \n",
      "metadata": {
        "trusted": true
      },
      "outputs": [
        {
          "name": "stdout",
          "output_type": "stream",
          "text": "{'Ahmed': 85, 'Sara': 79, 'Ali': 75}\n"
        }
      ],
      "execution_count": 35
    },
    {
      "id": "1f7439af-ede6-4fc2-b44a-89fabf9acb0a",
      "cell_type": "code",
      "source": "#Practical Examples \ntext = \"python is great and python is fun\"\nwords = text.split()\n\ncount = {}\nfor word in words:\n    count[word] = count.get(word, 0) + 1\n\nprint(count)",
      "metadata": {
        "trusted": true
      },
      "outputs": [
        {
          "name": "stdout",
          "output_type": "stream",
          "text": "{'python': 2, 'is': 2, 'great': 1, 'and': 1, 'fun': 1}\n"
        }
      ],
      "execution_count": 45
    },
    {
      "id": "0ab2ab06-173c-4f4c-a4e1-361d9d72f7ed",
      "cell_type": "code",
      "source": "#Practical Examples \nstudents = {\n    \"Ahmed\": {\"age\": 20, \"grade\": \"A\"},\n    \"Sara\": {\"age\": 22, \"grade\": \"B\"},\n    \"Ali\": {\"age\": 21, \"grade\": \"A\"}\n}\n\nfor name, info in students.items():\n    print(f\"{name} : Age: {info['age']}, Grade: {info['grade']}\")\n",
      "metadata": {
        "trusted": true
      },
      "outputs": [
        {
          "name": "stdout",
          "output_type": "stream",
          "text": "Ahmed : Age: 20, Grade: A\nSara : Age: 22, Grade: B\nAli : Age: 21, Grade: A\n"
        }
      ],
      "execution_count": 47
    },
    {
      "id": "2aa6ae99-482e-4b15-89aa-6e4b8949c5ef",
      "cell_type": "code",
      "source": "#Practical Examples\nscores = {\"Ahmed\": 80, \"Sara\": 95, \"Ali\": 70}\nsorted_scores = dict(sorted(scores.items(), key=lambda x: x[1], reverse=True))\nprint(sorted_scores)\n\n",
      "metadata": {
        "trusted": true
      },
      "outputs": [
        {
          "name": "stdout",
          "output_type": "stream",
          "text": "{'Sara': 95, 'Ahmed': 80, 'Ali': 70}\n"
        }
      ],
      "execution_count": 48
    },
    {
      "id": "608aa63a-c80f-4ae8-b844-b039dd5f6af7",
      "cell_type": "code",
      "source": "info = {\n    \"name\": \"Hassan\",\n    \"age\": 18,\n    \"job\": \"Engineer\"\n}\nprint(info[\"name\"])  # Hassan\nprint(info[\"job\"])  # Engineer\nprint(info[\"age\"])  # 18",
      "metadata": {
        "trusted": true
      },
      "outputs": [
        {
          "name": "stdout",
          "output_type": "stream",
          "text": "Hassan\nEngineer\n18\n"
        }
      ],
      "execution_count": 51
    }
  ]
}