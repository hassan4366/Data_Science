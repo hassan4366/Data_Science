{
  "metadata": {
    "kernelspec": {
      "name": "python",
      "display_name": "Python (Pyodide)",
      "language": "python"
    },
    "language_info": {
      "codemirror_mode": {
        "name": "python",
        "version": 3
      },
      "file_extension": ".py",
      "mimetype": "text/x-python",
      "name": "python",
      "nbconvert_exporter": "python",
      "pygments_lexer": "ipython3",
      "version": "3.8"
    },
    "varInspector": {
      "cols": {
        "lenName": 16,
        "lenType": 16,
        "lenVar": 40
      },
      "kernels_config": {
        "python": {
          "delete_cmd_postfix": "",
          "delete_cmd_prefix": "del ",
          "library": "var_list.py",
          "varRefreshCmd": "print(var_dic_list())"
        },
        "r": {
          "delete_cmd_postfix": ") ",
          "delete_cmd_prefix": "rm(",
          "library": "var_list.r",
          "varRefreshCmd": "cat(var_dic_list()) "
        }
      },
      "types_to_exclude": [
        "module",
        "function",
        "builtin_function_or_method",
        "instance",
        "_Feature"
      ],
      "window_display": false
    }
  },
  "nbformat_minor": 5,
  "nbformat": 4,
  "cells": [
    {
      "id": "59e520ae",
      "cell_type": "markdown",
      "source": "# Task 1: Define Variables and Print Them\n\n## Instructions:\n- Create a variable `name` and store your name in it.\n- Create a variable `age` and store your age.\n- Print the values in this format:\n  \n\"My name is **name** and I am **age** years old.\"\n\n",
      "metadata": {}
    },
    {
      "id": "7968fc7f",
      "cell_type": "code",
      "source": "name=(\"hassan\")\nage=(19)\nprint(\"My name is \" + name + \" and I am \" + str(age) + \" years old.\")",
      "metadata": {
        "trusted": true,
        "scrolled": true
      },
      "outputs": [
        {
          "name": "stdout",
          "output_type": "stream",
          "text": "My name is hassan and I am 19 years old.\n"
        }
      ],
      "execution_count": 15
    },
    {
      "id": "6948bacc",
      "cell_type": "markdown",
      "source": "# Task 2: Perform Arithmetic Operations\n\n## Instructions:\n- You have two numbers: `a = 10` and `b = 5`.\n- Compute their:\n  - Sum\n  - Difference\n  - Multiplication\n  - Division\n- Print the results using an f-string.",
      "metadata": {}
    },
    {
      "id": "5e24f110",
      "cell_type": "code",
      "source": "a=10\nb=5\nprint(a+b)\nprint(a-b)\nprint(a*b)\nprint(a/b)\n",
      "metadata": {
        "trusted": true
      },
      "outputs": [
        {
          "name": "stdout",
          "output_type": "stream",
          "text": "15\n5\n50\n2.0\n"
        }
      ],
      "execution_count": 18
    },
    {
      "id": "253fa0e4",
      "cell_type": "markdown",
      "source": "# Task 3: Use Escape Characters\n\n## Instructions:\n- Print the following sentence :\n- She said, \"Python is awesome!\" and I couldn't agree more.\n\n\n",
      "metadata": {}
    },
    {
      "id": "f27aeb1a",
      "cell_type": "code",
      "source": "print('She said, \"Python is awesome!\" and I couldn\\'t agree more.')\n",
      "metadata": {
        "trusted": true
      },
      "outputs": [
        {
          "name": "stdout",
          "output_type": "stream",
          "text": "She said, \"Python is awesome!\" and I couldn't agree more.\n"
        }
      ],
      "execution_count": 26
    },
    {
      "id": "1a3e6e2e",
      "cell_type": "markdown",
      "source": "# Task 4: String Manipulation Without Loops\n\n## Instructions:\n- You have the string `\"Python\"`.\n- Print only the first, third, and fifth letters.\n- Print the string in reverse order.",
      "metadata": {}
    },
    {
      "id": "e59eb3ab",
      "cell_type": "code",
      "source": "x=(\"Python\")\nprint(x[0],x[2],x[4])\nprint(x[::-1])\n\n",
      "metadata": {
        "trusted": true
      },
      "outputs": [
        {
          "name": "stdout",
          "output_type": "stream",
          "text": "P t o\nnohtyP\n"
        }
      ],
      "execution_count": 33
    },
    {
      "id": "ce10bb0f",
      "cell_type": "markdown",
      "source": "# Task 5: Logical Operations\n\n## Instructions:\n- Given `x = 10` and `y = 20`:\n  - Check if `x` is greater than `y` and print the result.\n  - Check if `x` is less than `y` or equal to `10`.",
      "metadata": {}
    },
    {
      "id": "063db40f",
      "cell_type": "code",
      "source": "x = 10\ny = 20\n\nprint(x > y)\n\nprint(x < y or x == 10)  \n\n    ",
      "metadata": {
        "trusted": true
      },
      "outputs": [
        {
          "name": "stdout",
          "output_type": "stream",
          "text": "False\nTrue\n"
        }
      ],
      "execution_count": 35
    },
    {
      "id": "0f2782a1",
      "cell_type": "markdown",
      "source": "# Task 6: Modify a String\n\n## Instructions:\n- Given the string `\"hello world\"`:\n  - Convert it to uppercase.\n  - Replace `\"world\"` with `\"Python\"`.",
      "metadata": {}
    },
    {
      "id": "614a1196",
      "cell_type": "code",
      "source": "s = (\"hello world\")\nuppercase_s = s.upper()\nprint(uppercase_s)\ns = \"hello world\"\nnew = s.replace(\"world\", \"python\")  \nprint(new)\n",
      "metadata": {
        "trusted": true
      },
      "outputs": [
        {
          "name": "stdout",
          "output_type": "stream",
          "text": "HELLO WORLD\nhello python\n"
        }
      ],
      "execution_count": 42
    },
    {
      "id": "f080eb98",
      "cell_type": "markdown",
      "source": "# Task 7: Modulus Operator\n\n## Instructions:\n- Compute the remainder when `25` is divided by `7`.\n- Check if `34` is even or odd using the modulus operator.",
      "metadata": {}
    },
    {
      "id": "d1eeac59",
      "cell_type": "code",
      "source": "print(25%7)\nn = 34\nif n%2 == 0:\n    print(\"even\")\nelse:\n    print(\"odd\")\n",
      "metadata": {
        "trusted": true
      },
      "outputs": [
        {
          "name": "stdout",
          "output_type": "stream",
          "text": "4\neven\n"
        }
      ],
      "execution_count": 62
    },
    {
      "id": "e373994d",
      "cell_type": "markdown",
      "source": "# Task 8: Combining Strings and Numbers\n\n## Instructions:\n- Given `name = \"Ali\"` and `score = 95.5`, print the sentence:\n - \"Ali scored 95.5 in the exam.\"\n\n\n\n",
      "metadata": {}
    },
    {
      "id": "66df2177",
      "cell_type": "code",
      "source": "name = \"Ali\"\nscore = 95.5\nprint(\"Ali scored 95.5 in the exam.\")",
      "metadata": {
        "trusted": true
      },
      "outputs": [
        {
          "name": "stdout",
          "output_type": "stream",
          "text": "Ali scored 95.5 in the exam.\n"
        }
      ],
      "execution_count": 47
    },
    {
      "id": "9260a4ee",
      "cell_type": "markdown",
      "source": "# Task 9: Swap Two Variables\n\n## Instructions:\n- Given two variables `a = 5` and `b = 10`, swap their values **without** using a third variable.\n- Print the values of `a` and `b` after swapping.",
      "metadata": {}
    },
    {
      "id": "083f178d",
      "cell_type": "code",
      "source": "a=5\nb=10\na ,b = b, a\nprint(\"a =\", a)\nprint(\"b =\", b)",
      "metadata": {
        "trusted": true
      },
      "outputs": [
        {
          "name": "stdout",
          "output_type": "stream",
          "text": "a = 10\nb = 5\n"
        }
      ],
      "execution_count": 50
    },
    {
      "id": "d8593b30",
      "cell_type": "markdown",
      "source": "# Task 10: Find the Length of a String\n\n## Instructions:\n- Given the string `\"programming\"`, find and print its length **without using a loop**.\n",
      "metadata": {}
    },
    {
      "id": "819d4393",
      "cell_type": "code",
      "source": "value = (\"programming\")\nnumber =len(value)\nprint(number)",
      "metadata": {
        "trusted": true
      },
      "outputs": [
        {
          "name": "stdout",
          "output_type": "stream",
          "text": "11\n"
        }
      ],
      "execution_count": 52
    },
    {
      "id": "acec1f69",
      "cell_type": "markdown",
      "source": "# Task 11: Check if a String Contains a Specific Word\n\n## Instructions:\n- Given the sentence `\"I love learning Python\"`, check if the word `\"Python\"` is in the sentence.\n- Print `True` if it is found, otherwise print `False`.",
      "metadata": {}
    },
    {
      "id": "b00d1504-582e-4c45-9148-0dddf17d92ce",
      "cell_type": "code",
      "source": "n1 = (\"I love learning Python\")\nif \"Python\" in n1:\n    print(\"True\")\nelse:\n    print(\"False\")",
      "metadata": {
        "trusted": true
      },
      "outputs": [
        {
          "name": "stdout",
          "output_type": "stream",
          "text": "True\n"
        }
      ],
      "execution_count": 54
    },
    {
      "id": "c0002134",
      "cell_type": "markdown",
      "source": "# Task 12: Find the First and Last Character of a String\n\n## Instructions:\n- Given the string `\"developer\"`, print its first and last character.",
      "metadata": {}
    },
    {
      "id": "67163f16",
      "cell_type": "code",
      "source": "string = (\"developer\")\nprint (string[0],string[-1])",
      "metadata": {
        "trusted": true
      },
      "outputs": [
        {
          "name": "stdout",
          "output_type": "stream",
          "text": "d r\n"
        }
      ],
      "execution_count": 55
    },
    {
      "id": "ce8bc375",
      "cell_type": "markdown",
      "source": "# Task 13: Convert a Float to an Integer\n\n## Instructions:\n- Given `num = 9.75`, convert it into an integer and print the result.",
      "metadata": {}
    },
    {
      "id": "a2a1c4d6",
      "cell_type": "code",
      "source": "num = 9.75\nint_num = int(num)\nprint(int_num)",
      "metadata": {
        "trusted": true
      },
      "outputs": [
        {
          "name": "stdout",
          "output_type": "stream",
          "text": "9\n"
        }
      ],
      "execution_count": 57
    },
    {
      "id": "2b6c7c69",
      "cell_type": "markdown",
      "source": "# Task 14: Find the ASCII Value of a Character\n\n## Instructions:\n- Find and print the ASCII value of the character `'A'`.",
      "metadata": {}
    },
    {
      "id": "096b5dbf",
      "cell_type": "code",
      "source": "ch = \"A\"\nasci = ord(ch)\nprint(asci)",
      "metadata": {
        "trusted": true
      },
      "outputs": [
        {
          "name": "stdout",
          "output_type": "stream",
          "text": "65\n"
        }
      ],
      "execution_count": 63
    }
  ]
}