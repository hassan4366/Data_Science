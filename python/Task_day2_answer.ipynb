{
  "metadata": {
    "kernelspec": {
      "name": "python",
      "display_name": "Python (Pyodide)",
      "language": "python"
    },
    "language_info": {
      "codemirror_mode": {
        "name": "python",
        "version": 3
      },
      "file_extension": ".py",
      "mimetype": "text/x-python",
      "name": "python",
      "nbconvert_exporter": "python",
      "pygments_lexer": "ipython3",
      "version": "3.8"
    },
    "varInspector": {
      "cols": {
        "lenName": 16,
        "lenType": 16,
        "lenVar": 40
      },
      "kernels_config": {
        "python": {
          "delete_cmd_postfix": "",
          "delete_cmd_prefix": "del ",
          "library": "var_list.py",
          "varRefreshCmd": "print(var_dic_list())"
        },
        "r": {
          "delete_cmd_postfix": ") ",
          "delete_cmd_prefix": "rm(",
          "library": "var_list.r",
          "varRefreshCmd": "cat(var_dic_list()) "
        }
      },
      "types_to_exclude": [
        "module",
        "function",
        "builtin_function_or_method",
        "instance",
        "_Feature"
      ],
      "window_display": false
    },
    "colab": {
      "provenance": []
    }
  },
  "nbformat_minor": 5,
  "nbformat": 4,
  "cells": [
    {
      "id": "32e0e229",
      "cell_type": "markdown",
      "source": "# 📝 Python Tasks - Day 2\n\n## **🔹 Task 1: If-Else Condition**\n### **Task:**  \n- Write a program that checks if a number is **positive, negative, or zero**.",
      "metadata": {
        "id": "32e0e229"
      }
    },
    {
      "id": "4f790d08",
      "cell_type": "code",
      "source": "number = 4\nif number > 0 :\n    print(\"positive\")\nelif number < 0 :\n    print(\"negative\")\nelse :\n    print(\"zero\")",
      "metadata": {
        "id": "4f790d08",
        "trusted": true
      },
      "outputs": [
        {
          "name": "stdout",
          "output_type": "stream",
          "text": "positive\n"
        }
      ],
      "execution_count": 5
    },
    {
      "id": "da0df8c4-a43e-4627-ad6d-97659c45752d",
      "cell_type": "code",
      "source": "number = -7\nif number > 0 :\n    print(\"positive\")\nelif number < 0 :\n    print(\"negative\")\nelse :\n    print(\"zero\")",
      "metadata": {
        "trusted": true
      },
      "outputs": [
        {
          "name": "stdout",
          "output_type": "stream",
          "text": "negative\n"
        }
      ],
      "execution_count": 6
    },
    {
      "id": "d470d23c",
      "cell_type": "markdown",
      "source": "# Task 2: Even or Odd (If-Else)\n\n## Instructions:\n- Check if a number is even or odd using the modulus operator.",
      "metadata": {
        "id": "d470d23c"
      }
    },
    {
      "id": "78179bdd",
      "cell_type": "code",
      "source": "number = 34\nif number%2==0:\n    print(\"even\")\nelse:\n    print(\"odd\")",
      "metadata": {
        "id": "78179bdd",
        "trusted": true
      },
      "outputs": [
        {
          "name": "stdout",
          "output_type": "stream",
          "text": "even\n"
        }
      ],
      "execution_count": 7
    },
    {
      "id": "71a8beb0-dea6-4e6a-a818-cc17e5b477e1",
      "cell_type": "code",
      "source": "number = 33\nif number%2==0:\n    print(\"even\")\nelse:\n    print(\"odd\")",
      "metadata": {
        "trusted": true
      },
      "outputs": [
        {
          "name": "stdout",
          "output_type": "stream",
          "text": "odd\n"
        }
      ],
      "execution_count": 8
    },
    {
      "id": "d95f2f61",
      "cell_type": "markdown",
      "source": "# Task 3: Grading System (If-Elif-Else)\n\n## Instructions:\n- Assign grades based on a student's score:\n  - 90+ → A\n  - 80-89 → B\n  - 70-79 → C\n  - 60-69 → D\n  - Below 60 → F",
      "metadata": {
        "id": "d95f2f61"
      }
    },
    {
      "id": "4054f425",
      "cell_type": "code",
      "source": "grade = 85\nif 90<=grade<=100:\n    print('A')\nelif grade<90 and grade>=80:\n    print(\"B\")\nelif  70<=grade<80:\n    print(\"C\")\nelif 0<=grade<60:\n    print(\"Fail\")\nelse:\n    print(\"Invalid grade\")\n\n",
      "metadata": {
        "id": "4054f425",
        "trusted": true
      },
      "outputs": [
        {
          "name": "stdout",
          "output_type": "stream",
          "text": "B\n"
        }
      ],
      "execution_count": 17
    },
    {
      "id": "d95f1d63-6575-4e65-9f11-3eeb08968943",
      "cell_type": "code",
      "source": "grade = 75\nif 90<=grade<=100:\n    print('A')\nelif grade<90 and grade>=80:\n    print(\"B\")\nelif  70<=grade<80:\n    print(\"C\")\nelif 0<=grade<60:\n    print(\"Fail\")\nelse:\n    print(\"Invalid grade\")\n",
      "metadata": {
        "trusted": true
      },
      "outputs": [
        {
          "name": "stdout",
          "output_type": "stream",
          "text": "C\n"
        }
      ],
      "execution_count": 18
    },
    {
      "id": "6c8d9aef",
      "cell_type": "markdown",
      "source": "# Task 4: Find the Largest of Three Numbers\n\n## Instructions:\n- Given three numbers, find the largest using `if-elif-else`.",
      "metadata": {
        "id": "6c8d9aef"
      }
    },
    {
      "id": "8b17b639",
      "cell_type": "code",
      "source": "a = 15\nb = 20 \nc = 30\nif a>b and a>c:\n    print(\"a is the Largest\")\nelif b>a and b>c:\n    print(\"b is the Largest\")\nelif c>a and c>b:\n    print(\"c is the Largest\")\nelse:\n    print(\"Errore\")",
      "metadata": {
        "id": "8b17b639",
        "trusted": true
      },
      "outputs": [
        {
          "name": "stdout",
          "output_type": "stream",
          "text": "c is the Largest\n"
        }
      ],
      "execution_count": 19
    },
    {
      "id": "02c76e11-7238-46ef-9f86-671ff23f5f60",
      "cell_type": "code",
      "source": "a = 34\nb = -12 \nc = 10\nif a>b and a>c:\n    print(\"a is the Largest\")\nelif b>a and b>c:\n    print(\"b is the Largest\")\nelif c>a and c>b:\n    print(\"c is the Largest\")\nelse:\n    print(\"Errore\")",
      "metadata": {
        "trusted": true
      },
      "outputs": [
        {
          "name": "stdout",
          "output_type": "stream",
          "text": "a is the Largest\n"
        }
      ],
      "execution_count": 20
    },
    {
      "id": "2fdab291",
      "cell_type": "markdown",
      "source": "# Task 5: Simple For Loop\n\n## Instructions:\n- Print numbers from `1` to `5` using a `for` loop.",
      "metadata": {
        "id": "2fdab291"
      }
    },
    {
      "id": "12850be4",
      "cell_type": "code",
      "source": "for i in range (1,6):\n    print(i)",
      "metadata": {
        "id": "12850be4",
        "trusted": true
      },
      "outputs": [
        {
          "name": "stdout",
          "output_type": "stream",
          "text": "1\n2\n3\n4\n5\n"
        }
      ],
      "execution_count": 23
    },
    {
      "id": "4c753589",
      "cell_type": "markdown",
      "source": "# Task 6: Sum of First N Natural Numbers (For Loop)\n\n## Instructions:\n- Find the sum of numbers from `1` to `10` using a `for` loop.",
      "metadata": {
        "id": "4c753589"
      }
    },
    {
      "id": "0a23495e",
      "cell_type": "code",
      "source": "sum = 0\nfor i in range (1,11):\n    sum+=i\nprint(sum)",
      "metadata": {
        "id": "0a23495e",
        "trusted": true
      },
      "outputs": [
        {
          "name": "stdout",
          "output_type": "stream",
          "text": "55\n"
        }
      ],
      "execution_count": 26
    },
    {
      "id": "e0d65fb4",
      "cell_type": "markdown",
      "source": "# Task 7: While Loop (Countdown)\n\n## Instructions:\n- Print a countdown from `5` to `1` using a `while` loop.",
      "metadata": {
        "id": "e0d65fb4"
      }
    },
    {
      "id": "7f17127c",
      "cell_type": "code",
      "source": "num= 5\nwhile num>0:\n    print(num)\n    num -=1",
      "metadata": {
        "id": "7f17127c",
        "trusted": true
      },
      "outputs": [
        {
          "name": "stdout",
          "output_type": "stream",
          "text": "5\n4\n3\n2\n1\n"
        }
      ],
      "execution_count": 37
    },
    {
      "id": "db096aaa",
      "cell_type": "markdown",
      "source": "# Task 8: Multiplication Table (For Loop)\n\n## Instructions:\n- Print the multiplication table of `7`.",
      "metadata": {
        "id": "db096aaa"
      }
    },
    {
      "id": "1ca636cc",
      "cell_type": "code",
      "source": "number = 7\n\nfor i in range(1, 13):  \n    print(f\"{number} × {i} = {number * i}\")\n",
      "metadata": {
        "id": "1ca636cc",
        "trusted": true
      },
      "outputs": [
        {
          "name": "stdout",
          "output_type": "stream",
          "text": "7 × 1 = 7\n7 × 2 = 14\n7 × 3 = 21\n7 × 4 = 28\n7 × 5 = 35\n7 × 6 = 42\n7 × 7 = 49\n7 × 8 = 56\n7 × 9 = 63\n7 × 10 = 70\n7 × 11 = 77\n7 × 12 = 84\n"
        }
      ],
      "execution_count": 39
    },
    {
      "id": "864d021d",
      "cell_type": "markdown",
      "source": "# Task 9: Nested Loop - Square Pattern\n\n## Instructions:\n- Print the following `5x5` square using nested loops:\n- like this code but use loops not Print\n",
      "metadata": {
        "id": "864d021d"
      }
    },
    {
      "id": "341bf79d",
      "cell_type": "code",
      "source": "print('*****')\nprint('*****')\nprint('*****')\nprint('*****')\nprint('*****')\n\n\n",
      "metadata": {
        "id": "341bf79d",
        "outputId": "bb0f5018-ba99-48bc-8034-357dca75b19c",
        "trusted": true
      },
      "outputs": [
        {
          "name": "stdout",
          "output_type": "stream",
          "text": "*****\n*****\n*****\n*****\n*****\n"
        }
      ],
      "execution_count": 49
    },
    {
      "id": "37c5e3eb",
      "cell_type": "code",
      "source": "loop = 5\n\nfor i in range(loop):\n    for j in range(loop): \n        print(\"*\", end=\"\") \n    print()\n",
      "metadata": {
        "id": "37c5e3eb",
        "trusted": true
      },
      "outputs": [
        {
          "name": "stdout",
          "output_type": "stream",
          "text": "*****\n*****\n*****\n*****\n*****\n"
        }
      ],
      "execution_count": 46
    },
    {
      "id": "679176b0",
      "cell_type": "markdown",
      "source": "# Task 10: Right-Angled Triangle Pattern\n- also use loops not print",
      "metadata": {
        "id": "679176b0"
      }
    },
    {
      "id": "0f738ac1",
      "cell_type": "code",
      "source": "print(\"*\")\nprint(\"**\")\nprint(\"***\")\nprint(\"****\")\nprint(\"*****\")\nprint(\"******\")",
      "metadata": {
        "id": "0f738ac1",
        "outputId": "1fd6b1b2-b952-4165-92ae-49c2cf72ea29",
        "trusted": true
      },
      "outputs": [
        {
          "name": "stdout",
          "output_type": "stream",
          "text": "*\n**\n***\n****\n*****\n******\n"
        }
      ],
      "execution_count": 48
    },
    {
      "id": "96e33589",
      "cell_type": "code",
      "source": "print(\"*\")\nprint(\"**\")\nprint(\"***\")\nprint(\"****\")\nprint(\"*****\")\nprint(\"******\") #wrong",
      "metadata": {
        "id": "96e33589",
        "trusted": true
      },
      "outputs": [
        {
          "name": "stdout",
          "output_type": "stream",
          "text": "*\n**\n***\n****\n*****\n******\n"
        }
      ],
      "execution_count": 50
    },
    {
      "id": "860e8afc",
      "cell_type": "code",
      "source": "",
      "metadata": {
        "id": "860e8afc"
      },
      "outputs": [],
      "execution_count": null
    }
  ]
}