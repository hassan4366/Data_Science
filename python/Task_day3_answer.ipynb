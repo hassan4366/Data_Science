{
  "metadata": {
    "kernelspec": {
      "name": "python",
      "display_name": "Python (Pyodide)",
      "language": "python"
    },
    "language_info": {
      "codemirror_mode": {
        "name": "python",
        "version": 3
      },
      "file_extension": ".py",
      "mimetype": "text/x-python",
      "name": "python",
      "nbconvert_exporter": "python",
      "pygments_lexer": "ipython3",
      "version": "3.8"
    },
    "varInspector": {
      "cols": {
        "lenName": 16,
        "lenType": 16,
        "lenVar": 40
      },
      "kernels_config": {
        "python": {
          "delete_cmd_postfix": "",
          "delete_cmd_prefix": "del ",
          "library": "var_list.py",
          "varRefreshCmd": "print(var_dic_list())"
        },
        "r": {
          "delete_cmd_postfix": ") ",
          "delete_cmd_prefix": "rm(",
          "library": "var_list.r",
          "varRefreshCmd": "cat(var_dic_list()) "
        }
      },
      "types_to_exclude": [
        "module",
        "function",
        "builtin_function_or_method",
        "instance",
        "_Feature"
      ],
      "window_display": false
    }
  },
  "nbformat_minor": 5,
  "nbformat": 4,
  "cells": [
    {
      "id": "6ccde71e",
      "cell_type": "markdown",
      "source": "# Task 1: Function to Check Prime Number\n\n## Instructions:\n- Write a function that checks whether a number is prime.",
      "metadata": {}
    },
    {
      "id": "56382750",
      "cell_type": "code",
      "source": "def num(n):\n    if n % 3 == 0:\n       return \"prime\"\n    else:\n        return \"not prime\"\nprint (num(15))\nprint (num(16))",
      "metadata": {
        "trusted": true
      },
      "outputs": [
        {
          "name": "stdout",
          "output_type": "stream",
          "text": "prime\nnot prime\n"
        }
      ],
      "execution_count": 34
    },
    {
      "id": "f6696609",
      "cell_type": "markdown",
      "source": "# Task 2: Function with Default Argument\n\n## Instructions:\n- Write a function that greets a user.\n- If no name is provided, it should greet `\"Guest\"` by default.",
      "metadata": {}
    },
    {
      "id": "d8c4d826",
      "cell_type": "code",
      "source": "def greet(name=\"Guest\"):\n    print({name})\n\ngreet()         \ngreet(\"hassan\") ",
      "metadata": {
        "trusted": true
      },
      "outputs": [
        {
          "name": "stdout",
          "output_type": "stream",
          "text": "{'Guest'}\n{'hassan'}\n"
        }
      ],
      "execution_count": 5
    },
    {
      "id": "78db161f",
      "cell_type": "markdown",
      "source": "# Task 3: Built-in Function - max() and min()\n\n## Instructions:\n- Find the maximum and minimum value in a list.",
      "metadata": {}
    },
    {
      "id": "1dc93405",
      "cell_type": "code",
      "source": "print(max(1,4,7,8))\nprint(min(4,5,3,9))",
      "metadata": {
        "trusted": true
      },
      "outputs": [
        {
          "name": "stdout",
          "output_type": "stream",
          "text": "8\n3\n"
        }
      ],
      "execution_count": 6
    },
    {
      "id": "78afc55e",
      "cell_type": "markdown",
      "source": "# Task 4: Built-in Function - len()\n\n## Instructions:\n- Find the length of a given string.",
      "metadata": {}
    },
    {
      "id": "82e36e6c",
      "cell_type": "code",
      "source": "print(len(\"Hassan ibrahim\"))",
      "metadata": {
        "trusted": true
      },
      "outputs": [
        {
          "name": "stdout",
          "output_type": "stream",
          "text": "14\n"
        }
      ],
      "execution_count": 7
    },
    {
      "id": "5bef08ba",
      "cell_type": "markdown",
      "source": "# Task 5: Built-in Function - sorted()\n\n## Instructions:\n- Sort the list `[8, 3, 1, 7, 2, 9]` in **ascending** and **descending** order.",
      "metadata": {}
    },
    {
      "id": "108dbbae",
      "cell_type": "code",
      "source": "# ascending\nx = [8, 3, 1, 7, 2, 9]\nx.sort(reverse=True)\nprint(x)",
      "metadata": {
        "trusted": true
      },
      "outputs": [
        {
          "name": "stdout",
          "output_type": "stream",
          "text": "[9, 8, 7, 3, 2, 1]\n"
        }
      ],
      "execution_count": 8
    },
    {
      "id": "42e00151",
      "cell_type": "code",
      "source": "# descending\nx = [8, 3, 1, 7, 2, 9]\nx.sort(reverse=False)\nprint(x)",
      "metadata": {
        "trusted": true
      },
      "outputs": [
        {
          "name": "stdout",
          "output_type": "stream",
          "text": "[1, 2, 3, 7, 8, 9]\n"
        }
      ],
      "execution_count": 9
    },
    {
      "id": "d88bbf9e",
      "cell_type": "markdown",
      "source": "# Task 6: Create and Print a List\n\n## Instructions:\n- Create a list of **5 fruits** and print it.",
      "metadata": {}
    },
    {
      "id": "d6bbf244",
      "cell_type": "code",
      "source": "fruits = [\"apple\", \"banana\", \"cherry\",\"kewi\",\"mango\"]\nprint(fruits)",
      "metadata": {
        "trusted": true
      },
      "outputs": [
        {
          "name": "stdout",
          "output_type": "stream",
          "text": "['apple', 'banana', 'cherry', 'kewi', 'mango']\n"
        }
      ],
      "execution_count": 10
    },
    {
      "id": "edc49004",
      "cell_type": "markdown",
      "source": "# Task 7: Access Elements in a List\n\n## Instructions:\n- Given a list of cities, print:\n  - The first city\n  - The last city",
      "metadata": {}
    },
    {
      "id": "b056c4d6",
      "cell_type": "code",
      "source": "country = [\"cairo\",\"aswan\",\"luxar\",\"Alexandria\"]\nprint(country[0])\nprint(country[-1])",
      "metadata": {
        "trusted": true
      },
      "outputs": [
        {
          "name": "stdout",
          "output_type": "stream",
          "text": "cairo\nAlexandria\n"
        }
      ],
      "execution_count": 12
    },
    {
      "id": "c439d970",
      "cell_type": "markdown",
      "source": "# Task 8: Modify a List\n\n## Instructions:\n- Given a list of numbers `[2, 4, 6, 8, 10]`, replace `6` with `12`.",
      "metadata": {}
    },
    {
      "id": "6a4b75c1",
      "cell_type": "code",
      "source": "numbers = [2, 4, 6, 8, 10]\nnumbers[numbers.index(6)] = 12\nprint(numbers)",
      "metadata": {
        "trusted": true
      },
      "outputs": [
        {
          "name": "stdout",
          "output_type": "stream",
          "text": "[2, 4, 12, 8, 10]\n"
        }
      ],
      "execution_count": 13
    },
    {
      "id": "2b330940",
      "cell_type": "markdown",
      "source": "# Task 9: Append and Remove Elements\n\n## Instructions:\n- Add `\"Pineapple\"` to the list of fruits.\n- Remove `\"Cherry\"` from the list.append",
      "metadata": {}
    },
    {
      "id": "14ca68d2",
      "cell_type": "code",
      "source": "fruits = [\"apple\", \"banana\", \"Cherry\",\"kewi\",\"mango\"]\nfruits.append(\"Pineapple\")\nfruits.remove(\"Cherry\")\nprint(fruits)\n",
      "metadata": {
        "trusted": true
      },
      "outputs": [
        {
          "name": "stdout",
          "output_type": "stream",
          "text": "['apple', 'banana', 'kewi', 'mango', 'Pineapple']\n"
        }
      ],
      "execution_count": 19
    },
    {
      "id": "af602f86-07b0-4070-aa9a-696ce8fd808e",
      "cell_type": "markdown",
      "source": "# Task 10: Iterate Over a List\n\n## Instructions:\n- Print each element in the list `\"colors = ['Red', 'Blue', 'Green']\"` using a `for` loop.",
      "metadata": {}
    },
    {
      "id": "8cb530f2",
      "cell_type": "code",
      "source": "colors = [\"Red\", \"Blue\", \"Green\"]\nfor colors in colors:\n    print(colors)",
      "metadata": {
        "trusted": true
      },
      "outputs": [
        {
          "name": "stdout",
          "output_type": "stream",
          "text": "Red\nBlue\nGreen\n"
        }
      ],
      "execution_count": 20
    },
    {
      "id": "1c5e6a49-fed5-4120-bfb9-f967873c8b14",
      "cell_type": "markdown",
      "source": "# Task 11: List Slicing\n\n## Instructions:\n- Given the list `[10, 20, 30, 40, 50, 60]`, extract a sublist `[20, 30, 40]`.",
      "metadata": {}
    },
    {
      "id": "f6e9b31e",
      "cell_type": "code",
      "source": "num = [10, 20, 30, 40, 50, 60]\nsublist = num[1:4]  \nprint(sublist)",
      "metadata": {
        "trusted": true
      },
      "outputs": [
        {
          "name": "stdout",
          "output_type": "stream",
          "text": "[20, 30, 40]\n"
        }
      ],
      "execution_count": 22
    },
    {
      "id": "20732caf-9ca1-4479-a82f-71dda32f8435",
      "cell_type": "markdown",
      "source": "# Task 12: Find the Length of a List\n\n## Instructions:\n- Find and print the length of `[\"Python\", \"Java\", \"C++\", \"JavaScript\"]`.",
      "metadata": {}
    },
    {
      "id": "9aa14891",
      "cell_type": "code",
      "source": "programming = [\"Python\", \"Java\", \"C++\", \"JavaScript\"]\nprint(len(programming))",
      "metadata": {
        "trusted": true
      },
      "outputs": [
        {
          "name": "stdout",
          "output_type": "stream",
          "text": "4\n"
        }
      ],
      "execution_count": 32
    },
    {
      "id": "8dd2642c",
      "cell_type": "code",
      "source": "languega = [\"Python\", \"Java\", \"C++\", \"JavaScript\"]\nprint(len(languega[0]))",
      "metadata": {
        "trusted": true
      },
      "outputs": [
        {
          "name": "stdout",
          "output_type": "stream",
          "text": "6\n"
        }
      ],
      "execution_count": 33
    },
    {
      "id": "a304c4d5",
      "cell_type": "code",
      "source": "languega = [\"Python\", \"Java\", \"C++\", \"JavaScript\"]\nprint(len(languega[1]))",
      "metadata": {
        "trusted": true
      },
      "outputs": [
        {
          "name": "stdout",
          "output_type": "stream",
          "text": "4\n"
        }
      ],
      "execution_count": 29
    },
    {
      "id": "c8213862-3cca-4ff4-beca-a95c1b1af007",
      "cell_type": "code",
      "source": "languega = [\"Python\", \"Java\", \"C++\", \"JavaScript\"]\nprint(len(languega[2]))",
      "metadata": {
        "trusted": true
      },
      "outputs": [
        {
          "name": "stdout",
          "output_type": "stream",
          "text": "3\n"
        }
      ],
      "execution_count": 30
    },
    {
      "id": "fff7aad4-3546-4f10-95e4-dddb17fc7799",
      "cell_type": "code",
      "source": "languega = [\"Python\", \"Java\", \"C++\", \"JavaScript\"]\nprint(len(languega[3]))",
      "metadata": {
        "trusted": true
      },
      "outputs": [
        {
          "name": "stdout",
          "output_type": "stream",
          "text": "10\n"
        }
      ],
      "execution_count": 31
    }
  ]
}