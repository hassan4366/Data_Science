{
  "metadata": {
    "kernelspec": {
      "name": "python",
      "display_name": "Python (Pyodide)",
      "language": "python"
    },
    "language_info": {
      "codemirror_mode": {
        "name": "python",
        "version": 3
      },
      "file_extension": ".py",
      "mimetype": "text/x-python",
      "name": "python",
      "nbconvert_exporter": "python",
      "pygments_lexer": "ipython3",
      "version": "3.8"
    }
  },
  "nbformat_minor": 4,
  "nbformat": 4,
  "cells": [
    {
      "cell_type": "markdown",
      "source": "# Inheritance",
      "metadata": {}
    },
    {
      "cell_type": "markdown",
      "source": "## Example 1",
      "metadata": {}
    },
    {
      "cell_type": "code",
      "source": "class calculator:\n    def __init__(self, a, b):\n        self.a = a\n        self.b = b\n\n    def add(self):\n        return self.a + self.b\n    \n    def mul(self):\n        return self.a * self.b",
      "metadata": {},
      "outputs": [],
      "execution_count": 6
    },
    {
      "cell_type": "code",
      "source": "class scientific_calculator(calculator):\n    def power(self):\n        return self.a ** self.b",
      "metadata": {
        "trusted": true
      },
      "outputs": [
        {
          "ename": "<class 'NameError'>",
          "evalue": "name 'calculator' is not defined",
          "traceback": [
            "\u001b[0;31m---------------------------------------------------------------------------\u001b[0m",
            "\u001b[0;31mNameError\u001b[0m                                 Traceback (most recent call last)",
            "Cell \u001b[0;32mIn[5], line 1\u001b[0m\n\u001b[0;32m----> 1\u001b[0m \u001b[38;5;28;01mclass\u001b[39;00m \u001b[38;5;21;01mscientific_calculator\u001b[39;00m(\u001b[43mcalculator\u001b[49m):\n\u001b[1;32m      2\u001b[0m     \u001b[38;5;28;01mdef\u001b[39;00m \u001b[38;5;21mpower\u001b[39m(\u001b[38;5;28mself\u001b[39m):\n\u001b[1;32m      3\u001b[0m         \u001b[38;5;28;01mreturn\u001b[39;00m \u001b[38;5;28mself\u001b[39m\u001b[38;5;241m.\u001b[39ma \u001b[38;5;241m*\u001b[39m\u001b[38;5;241m*\u001b[39m \u001b[38;5;28mself\u001b[39m\u001b[38;5;241m.\u001b[39mb\n",
            "\u001b[0;31mNameError\u001b[0m: name 'calculator' is not defined"
          ],
          "output_type": "error"
        }
      ],
      "execution_count": 5
    },
    {
      "cell_type": "code",
      "source": "x.add()",
      "metadata": {},
      "outputs": [
        {
          "data": {
            "text/plain": [
              "5"
            ]
          },
          "execution_count": 5,
          "metadata": {},
          "output_type": "execute_result"
        }
      ],
      "execution_count": 5
    },
    {
      "cell_type": "code",
      "source": "x.mul()",
      "metadata": {},
      "outputs": [
        {
          "data": {
            "text/plain": [
              "6"
            ]
          },
          "execution_count": 6,
          "metadata": {},
          "output_type": "execute_result"
        }
      ],
      "execution_count": 6
    },
    {
      "cell_type": "code",
      "source": "x.power()",
      "metadata": {},
      "outputs": [
        {
          "data": {
            "text/plain": [
              "8"
            ]
          },
          "execution_count": 7,
          "metadata": {},
          "output_type": "execute_result"
        }
      ],
      "execution_count": 7
    },
    {
      "cell_type": "markdown",
      "source": "## Example 2",
      "metadata": {}
    },
    {
      "cell_type": "code",
      "source": "class animal:\n    def __init__(self, name):\n        self.name = name\n\n    def eat(self, food):\n        print(\"{} is eating {}\".format(self.name, food))\n\nclass dog(animal):\n    def fetch(self, thing):\n        print(\"{} is fetching {}\".format(self.name, thing))\n\nclass cat(animal):\n    def swatstring(self):\n        print(\"{} is swatting a string\".format(self.name))",
      "metadata": {},
      "outputs": [],
      "execution_count": 8
    },
    {
      "cell_type": "code",
      "source": "dog1 = dog(\"Rover\")\ndog1.eat(\"dog food\")\ndog1.fetch(\"ball\")",
      "metadata": {},
      "outputs": [
        {
          "name": "stdout",
          "output_type": "stream",
          "text": "Rover is eating dog food\n,Rover is fetching ball\n"
        }
      ],
      "execution_count": 9
    },
    {
      "cell_type": "code",
      "source": "cat1 = cat(\"Whiskers\")\ncat1.eat(\"cat food\")\ncat1.swatstring()",
      "metadata": {},
      "outputs": [
        {
          "name": "stdout",
          "output_type": "stream",
          "text": "Whiskers is eating cat food\n,Whiskers is swatting a string\n"
        }
      ],
      "execution_count": 10
    },
    {
      "cell_type": "markdown",
      "source": "## Polymorphism",
      "metadata": {}
    },
    {
      "cell_type": "code",
      "source": "print(len(\"hello\"))\nprint(len([1, 2, 3, 4]))\nprint(len({\"a\": 1, \"b\": 2, \"c\": 3}))",
      "metadata": {},
      "outputs": [
        {
          "name": "stdout",
          "output_type": "stream",
          "text": "5\n,4\n,3\n"
        }
      ],
      "execution_count": 11
    },
    {
      "cell_type": "code",
      "source": "class animal:\n    def __init__(self, name):\n        self.name = name\n\n    def eat(self, food):\n        print(\"{} is eating {}\".format(self.name, food))\n\nclass dog(animal):\n    def fetch(self, thing):\n        print(\"{} is fetching {}\".format(self.name, thing))\n\n    def show_affection(self):\n        print(\"{} is wagging its tail\".format(self.name))\n\nclass cat(animal):\n    def swatstring(self):\n        print(\"{} is swatting a string\".format(self.name))\n\n    def show_affection(self):\n        print(\"{} is purring\".format(self.name))",
      "metadata": {},
      "outputs": [],
      "execution_count": 12
    },
    {
      "cell_type": "code",
      "source": "for a in (dog(\"Rover\"), cat(\"Whiskers\")):\n    a.show_affection()",
      "metadata": {},
      "outputs": [
        {
          "name": "stdout",
          "output_type": "stream",
          "text": "Rover is wagging its tail\n,Whiskers is purring\n"
        }
      ],
      "execution_count": 13
    },
    {
      "cell_type": "markdown",
      "source": "## Super",
      "metadata": {}
    },
    {
      "cell_type": "code",
      "source": "class animal:\n    def __init__(self, name):\n        self.name = name\n\n    def eat(self, food):\n        print(\"{} is eating {}\".format(self.name, food))\n\nclass dog(animal):\n    def fetch(self, thing):\n        print(\"{} is fetching {}\".format(self.name, thing))\n\nx = dog(\"Rover\")\nprint(x.name)",
      "metadata": {},
      "outputs": [
        {
          "name": "stdout",
          "output_type": "stream",
          "text": "Rover\n"
        }
      ],
      "execution_count": 14
    },
    {
      "cell_type": "code",
      "source": "class animal:\n    def __init__(self, name):\n        self.name = name\n\n    def eat(self, food):\n        print(\"{} is eating {}\".format(self.name, food))\n\nclass dog(animal):\n    def __init__(self, name):\n        super(dog, self).__init__(name)\n        self.food = \"dog food\"\n\n    def fetch(self, thing):\n        print(\"{} is fetching {}\".format(self.name, thing))\n\nx = dog(\"Rover\")\nprint(x.name)\nprint(x.food)",
      "metadata": {},
      "outputs": [
        {
          "name": "stdout",
          "output_type": "stream",
          "text": "Rover\n,dog food\n"
        }
      ],
      "execution_count": 15
    },
    {
      "cell_type": "markdown",
      "source": "## Multiple inheritance",
      "metadata": {}
    },
    {
      "cell_type": "code",
      "source": "class A:\n    def do_this(self):\n        print(\"doing this in A\")\n\nclass B(A):\n    pass\n\nclass C:\n    def do_this(self):\n        print(\"doing this in C\")\n\nclass D(B, C):\n    pass\n\ns = D()\nprint(s.do_this())\nprint(D.mro())",
      "metadata": {},
      "outputs": [
        {
          "name": "stdout",
          "output_type": "stream",
          "text": "doing this in A\n,None\n,[<class '__main__.D'>, <class '__main__.B'>, <class '__main__.A'>, <class '__main__.C'>, <class 'object'>]\n"
        }
      ],
      "execution_count": 16
    },
    {
      "cell_type": "code",
      "source": "class A:\n    def do_this2(self):\n        print(\"doing this in A\")\n\nclass B(A):\n    pass\n\nclass C:\n    def do_this(self):\n        print(\"doing this in C\")\n\nclass D(B, C):\n    pass\n\ns = D()\nprint(s.do_this())\nprint(D.mro())",
      "metadata": {},
      "outputs": [
        {
          "name": "stdout",
          "output_type": "stream",
          "text": "doing this in C\n,None\n,[<class '__main__.D'>, <class '__main__.B'>, <class '__main__.A'>, <class '__main__.C'>, <class 'object'>]\n"
        }
      ],
      "execution_count": 17
    },
    {
      "cell_type": "code",
      "source": "",
      "metadata": {},
      "outputs": [],
      "execution_count": null
    }
  ]
}