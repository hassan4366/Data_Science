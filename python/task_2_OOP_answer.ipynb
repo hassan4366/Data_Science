{
  "metadata": {
    "kernelspec": {
      "name": "python",
      "display_name": "Python (Pyodide)",
      "language": "python"
    },
    "language_info": {
      "codemirror_mode": {
        "name": "python",
        "version": 3
      },
      "file_extension": ".py",
      "mimetype": "text/x-python",
      "name": "python",
      "nbconvert_exporter": "python",
      "pygments_lexer": "ipython3",
      "version": "3.8"
    }
  },
  "nbformat_minor": 4,
  "nbformat": 4,
  "cells": [
    {
      "cell_type": "markdown",
      "source": "1. **Inheritance**  \n   - Create a class `Vehicle` with an `__init__` method that takes a `brand` and a `start()` method that prints a message.  \n   - Create a subclass `Car` that inherits from `Vehicle` and adds a `drive()` method.  \n   - Instantiate a `Car` object and call both `start()` and `drive()`.  ",
      "metadata": {}
    },
    {
      "cell_type": "code",
      "source": "class Vehicle:\n    def __init__(self, brand):\n        self.brand = brand\n\n    def start(self):\n        print(f\"{self.brand} is beganing\")\n\nclass Car(Vehicle):\n    def drive(self):\n        print(f\"{self.brand} is driving\")\n\n\nc1 = Car(\"honda\")\nc1.start() \nc1.drive()\n",
      "metadata": {
        "vscode": {
          "languageId": "plaintext"
        },
        "trusted": true
      },
      "outputs": [],
      "execution_count": null
    },
    {
      "cell_type": "markdown",
      "source": "2. **Polymorphism**  \n   - Create two classes: `Cat` and `Dog`, each with a `make_sound()` method that returns `\"Meow\"` and `\"Woof\"`, respectively.  \n   - Write a function `animal_sound(animal)` that takes an object of either class and prints the corresponding sound.  \n   - Test the function with objects of both classes.  \n",
      "metadata": {}
    },
    {
      "cell_type": "code",
      "source": "class cat:\n    def make_sound(self):\n        return \"Meow\"\nclass Dog:\n    def make_sound(self):\n        return \"Woof\"\ndef animal_sound(animal):\n    print(animal.make_sound())\nc = cat() \nD = Dog()\nprint(c.make_sound)\nprint(D.make_sound)",
      "metadata": {
        "trusted": true
      },
      "outputs": [],
      "execution_count": null
    },
    {
      "cell_type": "markdown",
      "source": "3. **Multiple Inheritance & Method Resolution Order (MRO)**  \n\n- Create three classes: `Person`, `Employee`, and `Manager`.  \n  - `Person` should have an `__init__` method that takes a `name` and an `introduce()` method that prints a greeting with the name.  \n  - `Employee` should have a method `work()` that prints a message indicating the employee is working.  \n  - `Manager` should inherit from both `Person` and `Employee`, and override `introduce()` to include their managerial role.  \n- Instantiate a `Manager` object and call `introduce()` and `work()`.  \n- Print the **Method Resolution Order (MRO)** for the `Manager` class.  ",
      "metadata": {}
    },
    {
      "cell_type": "code",
      "source": "class person:\n    def __init__(self ,name):\n        self.name = n\n    def introduce(self):\n        print(f\" greeting with the {self.name}\")\nclass Employee:\n    def work(self):\n        print(f\" greeting with the {self.name}\")\nclass Manager (personal ,Employee):\n    pass\n\nM1 = Manager()\nprint(M1.introduce())\nprint(M1.work())",
      "metadata": {
        "vscode": {
          "languageId": "plaintext"
        },
        "trusted": true
      },
      "outputs": [],
      "execution_count": null
    }
  ]
}